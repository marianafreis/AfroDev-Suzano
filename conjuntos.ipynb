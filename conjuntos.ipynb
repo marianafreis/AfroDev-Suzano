{
  "nbformat": 4,
  "nbformat_minor": 0,
  "metadata": {
    "colab": {
      "name": "conjuntos.ipynb",
      "provenance": [],
      "collapsed_sections": [],
      "include_colab_link": true
    },
    "kernelspec": {
      "name": "python3",
      "display_name": "Python 3"
    },
    "language_info": {
      "name": "python"
    }
  },
  "cells": [
    {
      "cell_type": "markdown",
      "metadata": {
        "id": "view-in-github",
        "colab_type": "text"
      },
      "source": [
        "<a href=\"https://colab.research.google.com/github/marianafreis/AfroDev-Suzano/blob/main/conjuntos.ipynb\" target=\"_parent\"><img src=\"https://colab.research.google.com/assets/colab-badge.svg\" alt=\"Open In Colab\"/></a>"
      ]
    },
    {
      "cell_type": "markdown",
      "metadata": {
        "id": "h3Q1G79ys1Eu"
      },
      "source": [
        "#Conjuntos - Set"
      ]
    },
    {
      "cell_type": "markdown",
      "metadata": {
        "id": "_WC61Ctxs50R"
      },
      "source": [
        "**Escreva um programa Python para criar um conjunto.**"
      ]
    },
    {
      "cell_type": "code",
      "metadata": {
        "id": "L_NcvlkTsysm",
        "colab": {
          "base_uri": "https://localhost:8080/"
        },
        "outputId": "e79d63b1-a845-4d44-aed4-c26e7383a80a"
      },
      "source": [
        "dados = set()\n",
        "\n",
        "print(dados)"
      ],
      "execution_count": null,
      "outputs": [
        {
          "output_type": "stream",
          "name": "stdout",
          "text": [
            "set()\n"
          ]
        }
      ]
    },
    {
      "cell_type": "markdown",
      "metadata": {
        "id": "ezkcetwdtA2i"
      },
      "source": [
        "**Escreva um programa Python para iteração em conjuntos.**"
      ]
    },
    {
      "cell_type": "code",
      "metadata": {
        "id": "SVmNH84YtEQ_",
        "colab": {
          "base_uri": "https://localhost:8080/"
        },
        "outputId": "b0d22b1e-00e9-42eb-fa61-be72727d758b"
      },
      "source": [
        "for i in range(5):\n",
        "  dados.add(i)\n",
        "\n",
        "print(dados)"
      ],
      "execution_count": null,
      "outputs": [
        {
          "output_type": "stream",
          "name": "stdout",
          "text": [
            "{0, 1, 2, 3, 4}\n"
          ]
        }
      ]
    },
    {
      "cell_type": "markdown",
      "metadata": {
        "id": "_Hyh5onetEtz"
      },
      "source": [
        "**Escreva um programa Python para adicionar um item a um conjunto.**"
      ]
    },
    {
      "cell_type": "code",
      "metadata": {
        "id": "2BeIZn-8tMJM",
        "colab": {
          "base_uri": "https://localhost:8080/"
        },
        "outputId": "000f6f38-a8dd-4137-bd4d-29541a597349"
      },
      "source": [
        "valor = int(input('Informe o valor: '))\n",
        "dados.add(valor)\n",
        "\n",
        "print(dados)"
      ],
      "execution_count": null,
      "outputs": [
        {
          "output_type": "stream",
          "name": "stdout",
          "text": [
            "Informe o valor: 12\n",
            "{0, 1, 2, 3, 4, 12}\n"
          ]
        }
      ]
    },
    {
      "cell_type": "markdown",
      "metadata": {
        "id": "0Uzx_FpotO0b"
      },
      "source": [
        "**Escreva um programa Python para remover item (ns) de um determinado conjunto.**"
      ]
    },
    {
      "cell_type": "code",
      "metadata": {
        "id": "SUW3mTqJtSoR",
        "colab": {
          "base_uri": "https://localhost:8080/"
        },
        "outputId": "1e06e7d5-7216-4a6e-baae-024e8279967a"
      },
      "source": [
        "dados.remove(0)\n",
        "\n",
        "print(dados)"
      ],
      "execution_count": null,
      "outputs": [
        {
          "output_type": "stream",
          "name": "stdout",
          "text": [
            "{1, 2, 3, 4, 12}\n"
          ]
        }
      ]
    },
    {
      "cell_type": "markdown",
      "metadata": {
        "id": "ayUviB_ztTC-"
      },
      "source": [
        "**Escreva um programa Python para remover um item de um conjunto, se estiver presente no conjunto**"
      ]
    },
    {
      "cell_type": "code",
      "metadata": {
        "id": "V1Haw3UJtWV6",
        "colab": {
          "base_uri": "https://localhost:8080/"
        },
        "outputId": "9100a52f-7672-4796-870b-828da5e0da3d"
      },
      "source": [
        "def remove_item(i):\n",
        "  if i in dados:\n",
        "    dados.remove(i)\n",
        "  else:\n",
        "    print('Item não está presente no conjunto')\n",
        "  return dados\n",
        "\n",
        "remove_item(20)\n",
        "remove_item(2)"
      ],
      "execution_count": null,
      "outputs": [
        {
          "output_type": "stream",
          "name": "stdout",
          "text": [
            "Item não está presente no conjunto\n"
          ]
        },
        {
          "output_type": "execute_result",
          "data": {
            "text/plain": [
              "{1, 3, 4, 12}"
            ]
          },
          "metadata": {},
          "execution_count": 19
        }
      ]
    },
    {
      "cell_type": "markdown",
      "metadata": {
        "id": "DERjLROrtWzk"
      },
      "source": [
        "**Escreva um programa Python para criar uma interseção de conjuntos.**"
      ]
    },
    {
      "cell_type": "code",
      "metadata": {
        "id": "Ax3ymRTWtavL",
        "colab": {
          "base_uri": "https://localhost:8080/"
        },
        "outputId": "87c4cf9b-5653-487c-a451-8cc9fd7d970f"
      },
      "source": [
        "#itens em comum aos dois conjuntos\n",
        "c1 = {1, 5, 7, 9}\n",
        "c2 = {1, 3, 6, 8, 9}\n",
        "\n",
        "c3 = c1.intersection(c2)\n",
        "print(c3)"
      ],
      "execution_count": null,
      "outputs": [
        {
          "output_type": "stream",
          "name": "stdout",
          "text": [
            "{1, 9}\n"
          ]
        }
      ]
    },
    {
      "cell_type": "markdown",
      "metadata": {
        "id": "A5PoiORvtbO5"
      },
      "source": [
        "**Escreva um programa Python para criar uma união de conjuntos.**"
      ]
    },
    {
      "cell_type": "code",
      "metadata": {
        "id": "9HJgoJv5tg3r",
        "colab": {
          "base_uri": "https://localhost:8080/"
        },
        "outputId": "b1f2ec51-945c-44d4-e42d-f3993d2f0107"
      },
      "source": [
        "#todos os itens dos dois conjuntos\n",
        "c1 = {1, 5, 7, 9}\n",
        "c2 = {1, 3, 6, 8, 9}\n",
        "\n",
        "c3 = c1.union(c2)\n",
        "print(c3)"
      ],
      "execution_count": null,
      "outputs": [
        {
          "output_type": "stream",
          "name": "stdout",
          "text": [
            "{1, 3, 5, 6, 7, 8, 9}\n"
          ]
        }
      ]
    },
    {
      "cell_type": "markdown",
      "metadata": {
        "id": "jDIiMpAMthSi"
      },
      "source": [
        "**Escreva um programa Python para criar diferença definida.**"
      ]
    },
    {
      "cell_type": "code",
      "metadata": {
        "id": "F824A6IrtkVM",
        "colab": {
          "base_uri": "https://localhost:8080/"
        },
        "outputId": "c1c8eb30-dafb-4ff2-eb06-b171c35018da"
      },
      "source": [
        "#elementos que estiverem em um dos conjuntos\n",
        "c1 = {1, 5, 7, 9}\n",
        "c2 = {1, 3, 6, 8, 9}\n",
        "\n",
        "c3 = c1.difference(c2)\n",
        "c4 = c2.difference(c1)\n",
        "print(f'{c3} ou {c4}')"
      ],
      "execution_count": null,
      "outputs": [
        {
          "output_type": "stream",
          "name": "stdout",
          "text": [
            "{5, 7} ou {8, 3, 6}\n"
          ]
        }
      ]
    },
    {
      "cell_type": "markdown",
      "metadata": {
        "id": "mP8UGqC8tkvQ"
      },
      "source": [
        "**Escreva um programa Python para criar uma diferença simétrica.**"
      ]
    },
    {
      "cell_type": "code",
      "metadata": {
        "id": "az8OrPKAtoA8",
        "colab": {
          "base_uri": "https://localhost:8080/"
        },
        "outputId": "bcf866aa-2bc9-4ce3-c76f-ae1570db5a40"
      },
      "source": [
        "#elementos que não se repetem nos dois conjuntos\n",
        "c1 = {1, 5, 7, 9}\n",
        "c2 = {1, 3, 6, 8, 9}\n",
        "\n",
        "c3 = c1.symmetric_difference(c2)\n",
        "print(c3)"
      ],
      "execution_count": null,
      "outputs": [
        {
          "output_type": "stream",
          "name": "stdout",
          "text": [
            "{3, 5, 6, 7, 8}\n"
          ]
        }
      ]
    },
    {
      "cell_type": "markdown",
      "metadata": {
        "id": "vzF0YOsKtofN"
      },
      "source": [
        "**Escreva um programa Python para verificar se um conjunto é um subconjunto de outro conjunto.**"
      ]
    },
    {
      "cell_type": "code",
      "metadata": {
        "id": "n1IgV_37tsPt",
        "colab": {
          "base_uri": "https://localhost:8080/"
        },
        "outputId": "5537bf88-c75e-4797-e308-22fc691304a1"
      },
      "source": [
        "c1 = {1, 2, 4, 6, 7, 9}\n",
        "c2 = {1, 4}\n",
        "\n",
        "if c2.issubset(c1):\n",
        "  print(f'O conjunto {c2} é um subconjunto de {c1}')\n",
        "else:\n",
        "  print(f'O conjunto {c2} não é um subconjunto de {c1}')"
      ],
      "execution_count": null,
      "outputs": [
        {
          "output_type": "stream",
          "name": "stdout",
          "text": [
            "O conjunto {1, 4} é um subconjunto de {1, 2, 4, 6, 7, 9}\n"
          ]
        }
      ]
    },
    {
      "cell_type": "markdown",
      "metadata": {
        "id": "H-29CAnntsmj"
      },
      "source": [
        "**Escreva um programa Python para criar uma cópia superficial dos conjuntos.**\n",
        "\n",
        "*Nota: Cópia superficial é uma cópia bit a bit de um objeto. É criado um novo objeto que possui uma cópia exata dos valores do objeto original.*"
      ]
    },
    {
      "cell_type": "code",
      "metadata": {
        "id": "AOmFr2-ot2ID",
        "colab": {
          "base_uri": "https://localhost:8080/"
        },
        "outputId": "ea456f05-77fb-4cbe-b2e5-90d9f587efaf"
      },
      "source": [
        "c1 = {1, 2, 4, 6, 7, 9}\n",
        "c2 = {1, 4}\n",
        "\n",
        "c3 = c1.copy()\n",
        "print(c3)"
      ],
      "execution_count": null,
      "outputs": [
        {
          "output_type": "stream",
          "name": "stdout",
          "text": [
            "{1, 2, 4, 6, 7, 9}\n"
          ]
        }
      ]
    },
    {
      "cell_type": "markdown",
      "metadata": {
        "id": "GK1_6bMZt3Fv"
      },
      "source": [
        "**Escreva um programa Python para remover todos os elementos de um determinado conjunto.**"
      ]
    },
    {
      "cell_type": "code",
      "metadata": {
        "id": "aaa_gPaTt-RV",
        "colab": {
          "base_uri": "https://localhost:8080/"
        },
        "outputId": "9f27f54d-b9b1-4bc7-f09d-da2288835bbc"
      },
      "source": [
        "c = {2, 5, 8, 13, 34}\n",
        "\n",
        "print(c)\n",
        "\n",
        "c.clear()\n",
        "\n",
        "print(c)"
      ],
      "execution_count": null,
      "outputs": [
        {
          "output_type": "stream",
          "name": "stdout",
          "text": [
            "{2, 34, 5, 8, 13}\n",
            "set()\n"
          ]
        }
      ]
    },
    {
      "cell_type": "markdown",
      "metadata": {
        "id": "YH5JJjUWt-uc"
      },
      "source": [
        "**Escreva um programa Python para encontrar o valor máximo e mínimo em um conjunto.**"
      ]
    },
    {
      "cell_type": "code",
      "metadata": {
        "id": "Nz5o64gnuGLC",
        "colab": {
          "base_uri": "https://localhost:8080/"
        },
        "outputId": "c57c5b6d-896f-4b48-8de3-43be7dcca65f"
      },
      "source": [
        "c = {2, 5, 8, 13, 34}\n",
        "\n",
        "print(f'O valor máximo é {max(c)}')\n",
        "print(f'O valor mínimo é {min(c)}')"
      ],
      "execution_count": null,
      "outputs": [
        {
          "output_type": "stream",
          "name": "stdout",
          "text": [
            "O valor máximo é 34\n",
            "O valor mínimo é 2\n"
          ]
        }
      ]
    },
    {
      "cell_type": "markdown",
      "metadata": {
        "id": "QFIatLtAuKxY"
      },
      "source": [
        "**Escreva um programa Python para encontrar o comprimento de um conjunto.**"
      ]
    },
    {
      "cell_type": "code",
      "metadata": {
        "id": "pbOYyxoFuL-V",
        "colab": {
          "base_uri": "https://localhost:8080/"
        },
        "outputId": "6ae6822d-3b5a-4bc0-911d-b3aef144c1dc"
      },
      "source": [
        "c = {9, 12, 4, 55, 23, 60}\n",
        "\n",
        "print(f'O comprimento do conjunto é: {len(c)}')"
      ],
      "execution_count": null,
      "outputs": [
        {
          "output_type": "stream",
          "name": "stdout",
          "text": [
            "O comprimento do conjunto é: 6\n"
          ]
        }
      ]
    }
  ]
}