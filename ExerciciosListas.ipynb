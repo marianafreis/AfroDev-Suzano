{
  "nbformat": 4,
  "nbformat_minor": 0,
  "metadata": {
    "colab": {
      "name": "ExerciciosListas.ipynb",
      "provenance": [],
      "collapsed_sections": [],
      "include_colab_link": true
    },
    "kernelspec": {
      "name": "python3",
      "display_name": "Python 3"
    },
    "language_info": {
      "name": "python"
    }
  },
  "cells": [
    {
      "cell_type": "markdown",
      "metadata": {
        "id": "view-in-github",
        "colab_type": "text"
      },
      "source": [
        "<a href=\"https://colab.research.google.com/github/marianafreis/AfroDev-Suzano/blob/main/ExerciciosListas.ipynb\" target=\"_parent\"><img src=\"https://colab.research.google.com/assets/colab-badge.svg\" alt=\"Open In Colab\"/></a>"
      ]
    },
    {
      "cell_type": "markdown",
      "metadata": {
        "id": "Zi2yNmmNaQp7"
      },
      "source": [
        "#Listas"
      ]
    },
    {
      "cell_type": "markdown",
      "metadata": {
        "id": "xRXYZKh_aSyG"
      },
      "source": [
        "**Faça um Programa que leia um vetor de 5 números inteiros e mostre-os.**"
      ]
    },
    {
      "cell_type": "code",
      "metadata": {
        "id": "1cqglVAUaPfR",
        "colab": {
          "base_uri": "https://localhost:8080/"
        },
        "outputId": "c7be6ef0-9406-4aaf-8b83-d2daec774251"
      },
      "source": [
        "numeros = []\n",
        "for i in range(5):\n",
        " \tnumeros.append(int(input('Informe um número inteiro: ')))\n",
        "print (numeros) "
      ],
      "execution_count": null,
      "outputs": [
        {
          "output_type": "stream",
          "name": "stdout",
          "text": [
            "Informe um número: 5\n",
            "Informe um número: 4\n",
            "Informe um número: 3\n",
            "Informe um número: 2\n",
            "Informe um número: 1\n",
            "['5', '4', '3', '2', '1']\n"
          ]
        }
      ]
    },
    {
      "cell_type": "markdown",
      "metadata": {
        "id": "_o9CuchuaX63"
      },
      "source": [
        "**Faça um Programa que leia um vetor de 10 números reais e mostre-os na ordem inversa.**"
      ]
    },
    {
      "cell_type": "code",
      "metadata": {
        "id": "g8YiQJrOaaFr",
        "colab": {
          "base_uri": "https://localhost:8080/"
        },
        "outputId": "4349dbc8-926a-495f-aaa9-4f1b100b6546"
      },
      "source": [
        "numeros_reais = []\n",
        "for i in range(10):\n",
        " \tnumeros_reais.append(float(input('Informe um número real: ')))\n",
        "numeros_reais.reverse()\n",
        "print (numeros_reais) "
      ],
      "execution_count": null,
      "outputs": [
        {
          "output_type": "stream",
          "name": "stdout",
          "text": [
            "Informe um número real: 5.4\n",
            "Informe um número real: 6.7\n",
            "Informe um número real: 3.2\n",
            "Informe um número real: 9.1\n",
            "Informe um número real: 1.4\n",
            "Informe um número real: 4\n",
            "Informe um número real: 2\n",
            "Informe um número real: 8.7\n",
            "Informe um número real: 9.0\n",
            "Informe um número real: 4.4\n",
            "[4.4, 9.0, 8.7, 2.0, 4.0, 1.4, 9.1, 3.2, 6.7, 5.4]\n"
          ]
        }
      ]
    },
    {
      "cell_type": "markdown",
      "metadata": {
        "id": "gean9zzwaah1"
      },
      "source": [
        "**Faça um Programa que leia 4 notas, mostre as notas e a média na tela.**"
      ]
    },
    {
      "cell_type": "code",
      "metadata": {
        "id": "9RngfMfQadt8",
        "colab": {
          "base_uri": "https://localhost:8080/"
        },
        "outputId": "a9bc60ba-52e3-4bf4-955b-36c9b49866d7"
      },
      "source": [
        "notas = []\n",
        "media = 0\n",
        "\n",
        "for i in range(4):\n",
        "  notas.append(float(input('Informe a nota: ')))\n",
        "  media += notas[i]\n",
        "\n",
        "media /= 4\n",
        "print(f'Notas: {notas}')\n",
        "print(f'Média: {media}')"
      ],
      "execution_count": null,
      "outputs": [
        {
          "output_type": "stream",
          "name": "stdout",
          "text": [
            "Informe a nota: 6.5\n",
            "Informe a nota: 5.5\n",
            "Informe a nota: 7.4\n",
            "Informe a nota: 5.9\n",
            "Notas: [6.5, 5.5, 7.4, 5.9]\n",
            "Média: 6.324999999999999\n"
          ]
        }
      ]
    },
    {
      "cell_type": "markdown",
      "metadata": {
        "id": "ZAnqKkS2avOJ"
      },
      "source": [
        "**Faça um Programa que leia um vetor de 10 caracteres, e diga quantas consoantes foram lidas. Imprima as consoantes.**"
      ]
    },
    {
      "cell_type": "code",
      "metadata": {
        "id": "TfCH3yBNayAl",
        "colab": {
          "base_uri": "https://localhost:8080/"
        },
        "outputId": "2dbdfbe2-9878-48a5-b858-3550374235e8"
      },
      "source": [
        "caracteres = []\n",
        "consoantes = 0\n",
        "\n",
        "for i in range(10):\n",
        "  caracteres.append(input('Digite um caracter: '))\n",
        "  if caracteres[i] not in ('a', 'e', 'i', 'o', 'u'):\n",
        "    consoantes += 1\n",
        "    print(caracteres[i])\n",
        "\n",
        "print(f'Foram lidas {consoantes} consoantes')"
      ],
      "execution_count": null,
      "outputs": [
        {
          "output_type": "stream",
          "name": "stdout",
          "text": [
            "Digite um caracter: a\n",
            "Digite um caracter: b\n",
            "b\n",
            "Digite um caracter: c\n",
            "c\n",
            "Digite um caracter: d\n",
            "d\n",
            "Digite um caracter: e\n",
            "Digite um caracter: f\n",
            "f\n",
            "Digite um caracter: g\n",
            "g\n",
            "Digite um caracter: h\n",
            "h\n",
            "Digite um caracter: i\n",
            "Digite um caracter: j\n",
            "j\n",
            "Foram lidas 7 consoantes\n"
          ]
        }
      ]
    },
    {
      "cell_type": "markdown",
      "metadata": {
        "id": "jhP6I4bUaydD"
      },
      "source": [
        "**Faça um Programa que leia 20 números inteiros e armazene-os num vetor. Armazene os números pares no vetor PAR e os números IMPARES no vetor impar. Imprima os três vetores.**"
      ]
    },
    {
      "cell_type": "code",
      "metadata": {
        "id": "Hk_jo71Sa0pf",
        "colab": {
          "base_uri": "https://localhost:8080/"
        },
        "outputId": "bf741e74-622f-484f-d23d-6121576c6de2"
      },
      "source": [
        "numeros = []\n",
        "par = []\n",
        "impar = []\n",
        "\n",
        "for i in range(20):\n",
        "  numeros.append(int(input('Digite um número inteiro: ')))\n",
        "  if (numeros[i] % 2) == 0:\n",
        "    par.append(numeros[i])\n",
        "  else:\n",
        "    impar.append(numeros[i])\n",
        "\n",
        "print(f'Todos os números: {numeros}')\n",
        "print(f'Números pares: {par}')\n",
        "print(f'Números ímpares: {impar}')"
      ],
      "execution_count": null,
      "outputs": [
        {
          "output_type": "stream",
          "name": "stdout",
          "text": [
            "Digite um número inteiro: 1\n",
            "Digite um número inteiro: 2\n",
            "Digite um número inteiro: 3\n",
            "Digite um número inteiro: 4\n",
            "Digite um número inteiro: 5\n",
            "Digite um número inteiro: 6\n",
            "Digite um número inteiro: 7\n",
            "Digite um número inteiro: 8\n",
            "Digite um número inteiro: 9\n",
            "Digite um número inteiro: 10\n",
            "Digite um número inteiro: 11\n",
            "Digite um número inteiro: 12\n",
            "Digite um número inteiro: 13\n",
            "Digite um número inteiro: 14\n",
            "Digite um número inteiro: 15\n",
            "Digite um número inteiro: 16\n",
            "Digite um número inteiro: 17\n",
            "Digite um número inteiro: 18\n",
            "Digite um número inteiro: 19\n",
            "Digite um número inteiro: 20\n",
            "Todos os números: [1, 2, 3, 4, 5, 6, 7, 8, 9, 10, 11, 12, 13, 14, 15, 16, 17, 18, 19, 20]\n",
            "Números pares: [2, 4, 6, 8, 10, 12, 14, 16, 18, 20]\n",
            "Números ímpares: [1, 3, 5, 7, 9, 11, 13, 15, 17, 19]\n"
          ]
        }
      ]
    },
    {
      "cell_type": "markdown",
      "metadata": {
        "id": "BWffYQ2pa1GW"
      },
      "source": [
        "**Faça um Programa que peça as quatro notas de 10 alunos, calcule e armazene num vetor a média de cada aluno, imprima o número de alunos com média maior ou igual a 7.0.**"
      ]
    },
    {
      "cell_type": "code",
      "metadata": {
        "id": "JzRRogX_a3hI",
        "colab": {
          "base_uri": "https://localhost:8080/"
        },
        "outputId": "e508ebc9-6fbe-4237-ff26-4197a2db8b29"
      },
      "source": [
        "lista_media = []\n",
        "alunos = 0\n",
        "\n",
        "for i in range(10):\n",
        "  media = 0\n",
        "  notas = []2\n",
        "  for j in range(4):\n",
        "    notas.append(float(input(f'Digite a nota do aluno {i+1}: ')))\n",
        "    media += notas[j]\n",
        "  media /= 4\n",
        "  print(f'A média das notas é: {media}')\n",
        "  lista_media.append(media)\n",
        "  if lista_media[i] >= 7:\n",
        "    alunos += 1\n",
        "\n",
        "print(lista_media)\n",
        "print(f'{alunos} alunos possuem média maior ou igual a 7')"
      ],
      "execution_count": null,
      "outputs": [
        {
          "output_type": "stream",
          "name": "stdout",
          "text": [
            "Digite a nota do aluno 1: 1\n",
            "Digite a nota do aluno 1: 1\n",
            "Digite a nota do aluno 1: 1\n",
            "Digite a nota do aluno 1: 1\n",
            "A média das notas é: 1.0\n",
            "Digite a nota do aluno 2: 2\n",
            "Digite a nota do aluno 2: 2\n",
            "Digite a nota do aluno 2: 2\n",
            "Digite a nota do aluno 2: 2\n",
            "A média das notas é: 2.0\n",
            "Digite a nota do aluno 3: 3\n",
            "Digite a nota do aluno 3: 3\n",
            "Digite a nota do aluno 3: 3\n",
            "Digite a nota do aluno 3: 3\n",
            "A média das notas é: 3.0\n",
            "Digite a nota do aluno 4: 4\n",
            "Digite a nota do aluno 4: 4\n",
            "Digite a nota do aluno 4: 4\n",
            "Digite a nota do aluno 4: 4\n",
            "A média das notas é: 4.0\n",
            "Digite a nota do aluno 5: 5\n",
            "Digite a nota do aluno 5: 5\n",
            "Digite a nota do aluno 5: 5\n",
            "Digite a nota do aluno 5: 5\n",
            "A média das notas é: 5.0\n",
            "Digite a nota do aluno 6: 6\n",
            "Digite a nota do aluno 6: 6\n",
            "Digite a nota do aluno 6: 6\n",
            "Digite a nota do aluno 6: 6\n",
            "A média das notas é: 6.0\n",
            "Digite a nota do aluno 7: 7\n",
            "Digite a nota do aluno 7: 7\n",
            "Digite a nota do aluno 7: 7\n",
            "Digite a nota do aluno 7: 7\n",
            "A média das notas é: 7.0\n",
            "Digite a nota do aluno 8: 8\n",
            "Digite a nota do aluno 8: 8\n",
            "Digite a nota do aluno 8: 8\n",
            "Digite a nota do aluno 8: 8\n",
            "A média das notas é: 8.0\n",
            "Digite a nota do aluno 9: 9\n",
            "Digite a nota do aluno 9: 9\n",
            "Digite a nota do aluno 9: 9\n",
            "Digite a nota do aluno 9: 9\n",
            "A média das notas é: 9.0\n",
            "Digite a nota do aluno 10: 10\n",
            "Digite a nota do aluno 10: 10\n",
            "Digite a nota do aluno 10: 10\n",
            "Digite a nota do aluno 10: 10\n",
            "A média das notas é: 10.0\n",
            "[1.0, 2.0, 3.0, 4.0, 5.0, 6.0, 7.0, 8.0, 9.0, 10.0]\n",
            "4 alunos possuem média maior ou igual a 7\n"
          ]
        }
      ]
    },
    {
      "cell_type": "markdown",
      "metadata": {
        "id": "KB48Enm4a3-Q"
      },
      "source": [
        "**Faça um Programa que leia um vetor de 5 números inteiros, mostre a soma, a multiplicação e os números.**"
      ]
    },
    {
      "cell_type": "code",
      "metadata": {
        "id": "WjdynRhPa7Bg",
        "colab": {
          "base_uri": "https://localhost:8080/"
        },
        "outputId": "5d9bd6ae-746f-4111-bee3-8f2c44f86c52"
      },
      "source": [
        "numeros = []\n",
        "soma = 0\n",
        "multiplicacao = 1\n",
        "\n",
        "for i in range(5):\n",
        "  numeros.append(int(input('Digite um número inteiro: ')))\n",
        "  soma += numeros[i]\n",
        "  multiplicacao *= numeros[i]\n",
        "\n",
        "print(f'Números: {numeros}')\n",
        "print(f'A soma do números é: {soma}')\n",
        "print(f'A multiplicação dos números é: {multiplicacao}')"
      ],
      "execution_count": null,
      "outputs": [
        {
          "output_type": "stream",
          "name": "stdout",
          "text": [
            "Digite um número inteiro: 5\n",
            "Digite um número inteiro: 7\n",
            "Digite um número inteiro: 9\n",
            "Digite um número inteiro: 12\n",
            "Digite um número inteiro: 20\n",
            "Números: [5, 7, 9, 12, 20]\n",
            "A soma do números é: 53\n",
            "A multiplicação dos números é: 75600\n"
          ]
        }
      ]
    },
    {
      "cell_type": "markdown",
      "metadata": {
        "id": "9fHsPAHca7cC"
      },
      "source": [
        "**Faça um Programa que peça a idade e a altura de 5 pessoas, armazene cada informação no seu respectivo vetor. Imprima a idade e a altura na ordem inversa a ordem lida.**"
      ]
    },
    {
      "cell_type": "code",
      "metadata": {
        "id": "lIIGO8Pga97Y",
        "colab": {
          "base_uri": "https://localhost:8080/"
        },
        "outputId": "e3c9e392-e5b7-41c2-91b8-e23361f7d9ab"
      },
      "source": [
        "idades = []\n",
        "alturas = []\n",
        "\n",
        "for i in range (5):\n",
        "  idades.append(int(input('Digite a idade: ')))\n",
        "  alturas.append(float(input('Digite a altura: ')))\n",
        "\n",
        "idades.reverse()\n",
        "print(idades)\n",
        "alturas.reverse()\n",
        "print(alturas)"
      ],
      "execution_count": null,
      "outputs": [
        {
          "output_type": "stream",
          "name": "stdout",
          "text": [
            "Digite a idade: 18\n",
            "Digite a altura: 1.65\n",
            "Digite a idade: 28\n",
            "Digite a altura: 1.73\n",
            "Digite a idade: 36\n",
            "Digite a altura: 1.59\n",
            "Digite a idade: 24\n",
            "Digite a altura: 1.62\n",
            "Digite a idade: 30\n",
            "Digite a altura: 1.70\n",
            "[30, 24, 36, 28, 18]\n",
            "[1.7, 1.62, 1.59, 1.73, 1.65]\n"
          ]
        }
      ]
    },
    {
      "cell_type": "markdown",
      "metadata": {
        "id": "dmwGmZN_a-f8"
      },
      "source": [
        "**Faça um Programa que leia um vetor A com 10 números inteiros, calcule e mostre a soma dos quadrados dos elementos do vetor.**"
      ]
    },
    {
      "cell_type": "code",
      "metadata": {
        "id": "-KYKHcwibBYY",
        "colab": {
          "base_uri": "https://localhost:8080/"
        },
        "outputId": "10708026-5bed-40cf-c69c-9552afedeada"
      },
      "source": [
        "vetor_a = []\n",
        "soma = 0\n",
        "\n",
        "for i in range(10):\n",
        "  vetor_a.append(int(input('Digite um número inteiro: ')))\n",
        "  soma += vetor_a[i]**2\n",
        "print(f'A soma dos quadrados dos elementos do vetor é: {soma}')"
      ],
      "execution_count": null,
      "outputs": [
        {
          "output_type": "stream",
          "name": "stdout",
          "text": [
            "Digite um número inteiro: 1\n",
            "Digite um número inteiro: 2\n",
            "Digite um número inteiro: 3\n",
            "Digite um número inteiro: 4\n",
            "Digite um número inteiro: 5\n",
            "Digite um número inteiro: 6\n",
            "Digite um número inteiro: 7\n",
            "Digite um número inteiro: 8\n",
            "Digite um número inteiro: 9\n",
            "Digite um número inteiro: 10\n",
            "A soma dos quadrados dos elementos do vetor é: 385\n"
          ]
        }
      ]
    },
    {
      "cell_type": "markdown",
      "metadata": {
        "id": "IdRRYMhNbB0K"
      },
      "source": [
        "**Faça um Programa que leia dois vetores com 10 elementos cada. Gere um terceiro vetor de 20 elementos, cujos valores deverão ser compostos pelos elementos intercalados dos dois outros vetores.**"
      ]
    },
    {
      "cell_type": "code",
      "metadata": {
        "id": "RvVAHlEobEGA",
        "colab": {
          "base_uri": "https://localhost:8080/"
        },
        "outputId": "8341f15f-57fa-4599-f5ca-16983eade5e6"
      },
      "source": [
        "vetor1 = []\n",
        "vetor2 = []\n",
        "vetor3 = []\n",
        "\n",
        "for i in range(10):\n",
        "  vetor1.append(input('Informe um valor: '))\n",
        "\n",
        "for j in range(10):\n",
        "  vetor2.append(input('Informe um valor: '))\n",
        "\n",
        "for k in range(10):\n",
        "  vetor3.append(vetor1[k])\n",
        "  vetor3.append(vetor2[k])\n",
        "\n",
        "print(f'Vetor 1: {vetor1}')\n",
        "print(f'Vetor 2: {vetor2}')\n",
        "print(f'Vetores intercalados: {vetor3}')"
      ],
      "execution_count": null,
      "outputs": [
        {
          "output_type": "stream",
          "name": "stdout",
          "text": [
            "Informe um valor: 1\n",
            "Informe um valor: 8\n",
            "Informe um valor: 3\n",
            "Informe um valor: 4\n",
            "Informe um valor: 8\n",
            "Informe um valor: 2\n",
            "Informe um valor: 0\n",
            "Informe um valor: 4\n",
            "Informe um valor: 7\n",
            "Informe um valor: 1\n",
            "Informe um valor: 6\n",
            "Informe um valor: 2\n",
            "Informe um valor: 9\n",
            "Informe um valor: 4\n",
            "Informe um valor: 8\n",
            "Informe um valor: 3\n",
            "Informe um valor: 7\n",
            "Informe um valor: 9\n",
            "Informe um valor: 1\n",
            "Informe um valor: 0\n",
            "Vetor 1: ['1', '8', '3', '4', '8', '2', '0', '4', '7', '1']\n",
            "Vetor 2: ['6', '2', '9', '4', '8', '3', '7', '9', '1', '0']\n",
            "Vetores intercalados: ['1', '6', '8', '2', '3', '9', '4', '4', '8', '8', '2', '3', '0', '7', '4', '9', '7', '1', '1', '0']\n"
          ]
        }
      ]
    },
    {
      "cell_type": "markdown",
      "metadata": {
        "id": "dmoTbe5LbEif"
      },
      "source": [
        "**Altere o programa anterior, intercalando 3 vetores de 10 elementos cada.**"
      ]
    },
    {
      "cell_type": "code",
      "metadata": {
        "id": "sr49NXpMbHWP",
        "colab": {
          "base_uri": "https://localhost:8080/"
        },
        "outputId": "bc8aa4e9-fd30-479b-be02-c5112183877e"
      },
      "source": [
        "vetor1 = []\n",
        "vetor2 = []\n",
        "vetor3 = []\n",
        "vetor4 = []\n",
        "\n",
        "for i in range(10):\n",
        "  vetor1.append(input('Informe um valor: '))\n",
        "\n",
        "for j in range(10):\n",
        "  vetor2.append(input('Informe um valor: '))\n",
        "\n",
        "for k in range(10):\n",
        "  vetor3.append(input('Informe um valor: '))\n",
        "\n",
        "for x in range(10):\n",
        "  vetor4.append(vetor1[x])\n",
        "  vetor4.append(vetor2[x])\n",
        "  vetor4.append(vetor3[x])\n",
        "\n",
        "print(f'Vetor 1: {vetor1}')\n",
        "print(f'Vetor 2: {vetor2}')\n",
        "print(f'Vetor 3: {vetor3}')\n",
        "print(f'Vetores intercalados: {vetor4}')"
      ],
      "execution_count": null,
      "outputs": [
        {
          "output_type": "stream",
          "name": "stdout",
          "text": [
            "Informe um valor: 1\n",
            "Informe um valor: 2\n",
            "Informe um valor: 3\n",
            "Informe um valor: 4\n",
            "Informe um valor: 5\n",
            "Informe um valor: 6\n",
            "Informe um valor: 7\n",
            "Informe um valor: 8\n",
            "Informe um valor: 9\n",
            "Informe um valor: 10\n",
            "Informe um valor: 11\n",
            "Informe um valor: 12\n",
            "Informe um valor: 13\n",
            "Informe um valor: 14\n",
            "Informe um valor: 15\n",
            "Informe um valor: 16\n",
            "Informe um valor: 17\n",
            "Informe um valor: 18\n",
            "Informe um valor: 19\n",
            "Informe um valor: 20\n",
            "Informe um valor: 21\n",
            "Informe um valor: 22\n",
            "Informe um valor: 23\n",
            "Informe um valor: 24\n",
            "Informe um valor: 25\n",
            "Informe um valor: 26\n",
            "Informe um valor: 27\n",
            "Informe um valor: 28\n",
            "Informe um valor: 29\n",
            "Informe um valor: 30\n",
            "Vetor 1: ['1', '2', '3', '4', '5', '6', '7', '8', '9', '10']\n",
            "Vetor 2: ['11', '12', '13', '14', '15', '16', '17', '18', '19', '20']\n",
            "Vetor 3: ['21', '22', '23', '24', '25', '26', '27', '28', '29', '30']\n",
            "Vetores intercalados: ['1', '11', '21', '2', '12', '22', '3', '13', '23', '4', '14', '24', '5', '15', '25', '6', '16', '26', '7', '17', '27', '8', '18', '28', '9', '19', '29', '10', '20', '30']\n"
          ]
        }
      ]
    },
    {
      "cell_type": "markdown",
      "metadata": {
        "id": "ay0rZ2s_bH1C"
      },
      "source": [
        "**Foram anotadas as idades e alturas de 30 alunos. Faça um Programa que determine quantos alunos com mais de 13 anos possuem altura inferior à média de altura desses alunos.**"
      ]
    },
    {
      "cell_type": "code",
      "metadata": {
        "colab": {
          "base_uri": "https://localhost:8080/"
        },
        "id": "ocx3iHIeB5G4",
        "outputId": "2bc7f7ba-fa54-4e1a-a63c-2f04a032cc0b"
      },
      "source": [
        "idades = [13, 14, 15, 14, 15, 15, 13, 14, 13, 14, 14, 15, 14, 14, 15, 13, 13, 14, 14, 15, 15, 15, 13, 14, 15, 13, 14, 14, 15, 14]\n",
        "alturas = [1.6, 1.64, 1.65, 1.67, 1.66, 1.55, 1.7, 1.5, 1.6, 1.61, 1.59, 1.55, 1.72, 1.69, 1.64, 1.57, 1.6, 1.52, 1.71, 1.54, 1.62, 1.67, 1.74, 1.77, 1.68, 1.61, 1.59, 1.55, 1.72, 1.5]\n",
        "n_alunos = 0\n",
        "\n",
        "media_alturas = sum(alturas)/len(alturas)\n",
        "print(f'A média das alturas é: {media_alturas}')\n",
        "\n",
        "for i in range(30):\n",
        "  if (idades[i] > 13) and (alturas[i] < media_alturas):\n",
        "      n_alunos += 1\n",
        "    \n",
        "print(f'{n_alunos} com mais de 13 anos possuem altura inferior à média dos alunos')"
      ],
      "execution_count": null,
      "outputs": [
        {
          "output_type": "stream",
          "name": "stdout",
          "text": [
            "A média das alturas é: 1.6253333333333335\n",
            "11 com mais de 13 anos possuem altura inferior à média dos alunos\n"
          ]
        }
      ]
    },
    {
      "cell_type": "markdown",
      "metadata": {
        "id": "iItfrlP_bKn1"
      },
      "source": [
        "**Faça um programa que receba a temperatura média de cada mês do ano e armazene-as em uma lista. Após isto, calcule a média anual das temperaturas e mostre todas as temperaturas acima da média anual, e em que mês elas ocorreram (mostrar o mês por extenso: 1 – Janeiro, 2 – Fevereiro, . . . ).**"
      ]
    },
    {
      "cell_type": "code",
      "metadata": {
        "id": "m81vLFoBbNai",
        "colab": {
          "base_uri": "https://localhost:8080/"
        },
        "outputId": "ca6bdd6f-1db5-464b-a88c-2725bb1491ac"
      },
      "source": [
        "temp_media_mes = []\n",
        "\n",
        "for i in range(12):\n",
        "  temp_media_mes.append(float(input(f'Informe a temperatura média do mês {i+1}: ')))\n",
        "  \n",
        "temp_media_ano = sum(temp_media_mes)/len(temp_media_mes)\n",
        "meses = ['Janeiro', 'Fevereiro', 'Março', 'Abril', 'Maio', 'Junho', 'Julho', 'Agosto', 'Setembro', 'Outubro', 'Novembro', 'Dezembro']\n",
        "\n",
        "print(f'Temperatura média anual: {temp_media_ano:.2f}')\n",
        "print('Meses com temperatura média superior à média anual:')\n",
        "\n",
        "for j in range(12):\n",
        "  if temp_media_mes[j] > temp_media_ano:\n",
        "    print(f'{j} - {meses[j]} - {temp_media_mes[j]}')"
      ],
      "execution_count": null,
      "outputs": [
        {
          "output_type": "stream",
          "name": "stdout",
          "text": [
            "Informe a temperatura média do mês 1: 22\n",
            "Informe a temperatura média do mês 2: 19\n",
            "Informe a temperatura média do mês 3: 26\n",
            "Informe a temperatura média do mês 4: 24\n",
            "Informe a temperatura média do mês 5: 25\n",
            "Informe a temperatura média do mês 6: 27\n",
            "Informe a temperatura média do mês 7: 27\n",
            "Informe a temperatura média do mês 8: 26\n",
            "Informe a temperatura média do mês 9: 28\n",
            "Informe a temperatura média do mês 10: 24\n",
            "Informe a temperatura média do mês 11: 18\n",
            "Informe a temperatura média do mês 12: 26\n",
            "Temperatura média anual: 24.33\n",
            "Meses com temperatura média superior à média anual:\n",
            "2 - Março - 26.0\n",
            "4 - Maio - 25.0\n",
            "5 - Junho - 27.0\n",
            "6 - Julho - 27.0\n",
            "7 - Agosto - 26.0\n",
            "8 - Setembro - 28.0\n",
            "11 - Dezembro - 26.0\n"
          ]
        }
      ]
    },
    {
      "cell_type": "markdown",
      "metadata": {
        "id": "JSUr_I2vbTuM"
      },
      "source": [
        "**Utilizando listas faça um programa que faça 5 perguntas para uma pessoa sobre um crime. As perguntas são:**\n",
        "\n",
        "1. \"Telefonou para a vítima?\"\n",
        "2. \"Esteve no local do crime?\"\n",
        "3. \"Mora perto da vítima?\"\n",
        "4. \"Devia para a vítima?\"\n",
        "5. \"Já trabalhou com a vítima?\" O programa deve no final emitir uma classificação sobre a participação da pessoa no crime. Se a pessoa responder positivamente a 2 questões ela deve ser classificada como \"Suspeita\", entre 3 e 4 como \"Cúmplice\" e 5 como \"Assassino\". Caso contrário, ele será classificado como \"Inocente\"."
      ]
    },
    {
      "cell_type": "code",
      "metadata": {
        "id": "UvzC4bCCbata",
        "colab": {
          "base_uri": "https://localhost:8080/"
        },
        "outputId": "0ccbc2d8-8257-4cf6-e54d-c9181a434405"
      },
      "source": [
        "perguntas = []\n",
        "count = 0\n",
        "\n",
        "print('Responda com \"s\" ou \"n\"')\n",
        "perguntas.append(input('Telefonou para a vítima? '))\n",
        "perguntas.append(input('Esteve no local do crime? '))\n",
        "perguntas.append(input('Mora perto da vítima? '))\n",
        "perguntas.append(input('Devia para a vítima? '))\n",
        "perguntas.append(input('Já trabalhou com a vítima? '))\n",
        "\n",
        "for i in range(5):\n",
        "  if perguntas[i] == 's' or perguntas[i] == 'S':\n",
        "    count += 1\n",
        "\n",
        "if count == 2:\n",
        "  print('Suspeito')\n",
        "elif count == 3 or count == 4:\n",
        "  print('Cúmplice')\n",
        "elif count == 5:\n",
        "  print( 'Assassino')\n",
        "else:\n",
        "  print('Inocente')"
      ],
      "execution_count": null,
      "outputs": [
        {
          "output_type": "stream",
          "name": "stdout",
          "text": [
            "Responda com \"s\" ou \"n\"\n",
            "Telefonou para a vítima? s\n",
            "Esteve no local do crime? n\n",
            "Mora perto da vítima? n\n",
            "Devia para a vítima? n\n",
            "Já trabalhou com a vítima? n\n",
            "Inocente\n"
          ]
        }
      ]
    },
    {
      "cell_type": "markdown",
      "metadata": {
        "id": "gVTTqib9bbx3"
      },
      "source": [
        "**Faça um programa que leia um número indeterminado de valores, correspondentes a notas, encerrando a entrada de dados quando for informado um valor igual a -1 (que não deve ser armazenado). Após esta entrada de dados, faça:**\n",
        "\n",
        "1. Mostre a quantidade de valores que foram lidos;\n",
        "2. Exiba todos os valores na ordem em que foram informados, um ao lado do outro;\n",
        "3. Exiba todos os valores na ordem inversa à que foram informados, um abaixo do outro;\n",
        "4. Calcule e mostre a soma dos valores;\n",
        "5. Calcule e mostre a média dos valores;\n",
        "6. Calcule e mostre a quantidade de valores acima da média calculada;\n",
        "7. Calcule e mostre a quantidade de valores abaixo de sete;\n",
        "8. Encerre o programa com uma mensagem;"
      ]
    },
    {
      "cell_type": "code",
      "metadata": {
        "id": "RLEIlUGZbfDG",
        "colab": {
          "base_uri": "https://localhost:8080/"
        },
        "outputId": "bd84388e-a2b9-4676-f42c-c9b1e247e425"
      },
      "source": [
        "valores = []\n",
        "i = 1\n",
        "\n",
        "while(1):\n",
        "  valor = int(input('Informe um valor: '))\n",
        "\n",
        "  if (valor == -1):\n",
        "    break\n",
        "  else:\n",
        "    i+= 1\n",
        "    valores.append(valor)\n",
        "  \n",
        "print(f'Foram lidos {i} valores')\n",
        "print(*valores, sep=', ')\n",
        "valores.reverse()\n",
        "print(*valores, sep='\\n')\n",
        "print(f'A soma dos valores é: {sum(valores)}')\n",
        "\n",
        "media = sum(valores)/len(valores)\n",
        "\n",
        "print(f'A média dos valores é {media}')\n",
        "\n",
        "acima_media = 0\n",
        "abaixo7 = 0\n",
        "for j in range(len(valores)):\n",
        "  if valores[j] > media:\n",
        "    acima_media += 1\n",
        "  if valores[j] < 7:\n",
        "    abaixo7 += 1\n",
        "    \n",
        "print(f'{acima_media} valores estão acima da média')\n",
        "print(f'{abaixo7} valores estão abaixo de 7')\n",
        "print('Encerrando o programa, tchau!')"
      ],
      "execution_count": null,
      "outputs": [
        {
          "output_type": "stream",
          "name": "stdout",
          "text": [
            "Informe um valor: 1\n",
            "Informe um valor: 3\n",
            "Informe um valor: 5\n",
            "Informe um valor: 7\n",
            "Informe um valor: 9\n",
            "Informe um valor: 11\n",
            "Informe um valor: -1\n",
            "Foram lidos 7 valores\n",
            "1, 3, 5, 7, 9, 11\n",
            "11\n",
            "9\n",
            "7\n",
            "5\n",
            "3\n",
            "1\n",
            "A soma dos valores é: 36\n",
            "A média dos valores é 6.0\n",
            "3 valores estão acima da média\n",
            "3 valores estão abaixo de 7\n",
            "Encerrando o programa, tchau!\n"
          ]
        }
      ]
    },
    {
      "cell_type": "markdown",
      "metadata": {
        "id": "mvAHzXuobqDj"
      },
      "source": [
        "**Utilize uma lista para resolver o problema a seguir. Uma empresa paga seus vendedores com base em comissões. O vendedor recebe 200 por semana mais 9 por cento de suas vendas brutas daquela semana. Por exemplo, um vendedor que teve vendas brutas de 3000 em uma semana recebe 200 mais 9 por cento de 3000, ou seja, um total de 470. Escreva um programa (usando um array de contadores) que determine quantos vendedores receberam salários nos seguintes intervalos de valores:**\n",
        "\n",
        "\n",
        "\n",
        "```\n",
        "a. $200 - $299\n",
        "b. $300 - $399\n",
        "c. $400 - $499\n",
        "d. $500 - $599\n",
        "e. $600 - $699\n",
        "f. $700 - $799\n",
        "g. $800 - $899\n",
        "h. $900 - $999\n",
        "i. $1000 em diante\n",
        "\n",
        "```\n",
        "\n",
        "Desafio: Crie ma fórmula para chegar na posição da lista a partir do salário, sem fazer vários ifs aninhados.\n",
        "\n"
      ]
    },
    {
      "cell_type": "code",
      "metadata": {
        "id": "HBmvcj6ZcC_J"
      },
      "source": [
        ""
      ],
      "execution_count": null,
      "outputs": []
    },
    {
      "cell_type": "markdown",
      "metadata": {
        "id": "ZWrwQrE4cF7z"
      },
      "source": [
        "**Em uma competição de salto em distância cada atleta tem direito a cinco saltos. O resultado do atleta será determinado pela média dos cinco valores restantes. Você deve fazer um programa que receba o nome e as cinco distâncias alcançadas pelo atleta em seus saltos e depois informe o nome, os saltos e a média dos saltos. O programa deve ser encerrado quando não for informado o nome do atleta. A saída do programa deve ser conforme o exemplo abaixo:**\n",
        "\n",
        "\n",
        "\n",
        "```\n",
        "Atleta: Rodrigo Curvêllo\n",
        " \n",
        "Primeiro Salto: 6.5 m\n",
        "Segundo Salto: 6.1 m\n",
        "Terceiro Salto: 6.2 m\n",
        "Quarto Salto: 5.4 m\n",
        "Quinto Salto: 5.3 m\n",
        "\n",
        "Resultado final:\n",
        "Atleta: Rodrigo Curvêllo\n",
        "Saltos: 6.5 - 6.1 - 6.2 - 5.4 - 5.3\n",
        "Média dos saltos: 5.9 m\n",
        "```\n",
        "\n"
      ]
    },
    {
      "cell_type": "code",
      "metadata": {
        "id": "VeCitpOacMjH",
        "colab": {
          "base_uri": "https://localhost:8080/"
        },
        "outputId": "e310f64d-ae4f-4b31-ac5e-c8bc42337a56"
      },
      "source": [
        "atleta = ' '\n",
        "saltos = ['Primeiro', 'Segundo', 'Terceiro', 'Quarto', 'Quinto']\n",
        "dist_saltos = []\n",
        "\n",
        "while atleta != '':\n",
        "  atleta = input('Nome do atleta: ')\n",
        "\n",
        "  if atleta == '':\n",
        "    print('Encerrando!')\n",
        "    break\n",
        "  else:\n",
        "    for i in range(5):\n",
        "      dist_saltos.append(float(input(f'{saltos[i]} Salto: ')))\n",
        "\n",
        "    media = sum(dist_saltos)/len(dist_saltos)\n",
        "\n",
        "    print('\\nResultado final: ')\n",
        "    print(f'Atleta: {atleta}')\n",
        "    print(f'Saltos: {dist_saltos}')\n",
        "    print(f'Média dos saltos: {media}')\n",
        "\n",
        "    saltos = []"
      ],
      "execution_count": null,
      "outputs": [
        {
          "output_type": "stream",
          "name": "stdout",
          "text": [
            "Nome do atleta: Rodrigo Curvêllo\n",
            "Primeiro Salto: 6.5\n",
            "Segundo Salto: 6.1\n",
            "Terceiro Salto: 6.2\n",
            "Quarto Salto: 5.4\n",
            "Quinto Salto: 5.3\n",
            "\n",
            "Resultado final: \n",
            "Atleta: Rodrigo Curvêllo\n",
            "Saltos: [6.5, 6.1, 6.2, 5.4, 5.3]\n",
            "Média dos saltos: 5.9\n",
            "Nome do atleta: \n",
            "Encerrando!\n"
          ]
        }
      ]
    },
    {
      "cell_type": "markdown",
      "metadata": {
        "id": "vgzaom0CcOEp"
      },
      "source": [
        "**Uma empresa de pesquisas precisa tabular os resultados da seguinte enquete feita a um grande quantidade de organizações:**\n",
        "\n",
        "\n",
        "```\n",
        "\"Qual o melhor Sistema Operacional para uso em servidores?\"\n",
        "\n",
        "As possíveis respostas são:\n",
        "\n",
        "1- Windows Server\n",
        "2- Unix\n",
        "3- Linux\n",
        "4- Netware\n",
        "5- Mac OS\n",
        "6- Outro\n",
        "```\n",
        "\n",
        "**Você foi contratado para desenvolver um programa que leia o resultado da enquete e informe ao final o resultado da mesma. O programa deverá ler os valores até ser informado o valor 0, que encerra a entrada dos dados. Não deverão ser aceitos valores além dos válidos para o programa (0 a 6). Os valores referentes a cada uma das opções devem ser armazenados num vetor. Após os dados terem sido completamente informados, o programa deverá calcular a percentual de cada um dos concorrentes e informar o vencedor da enquete. O formato da saída foi dado pela empresa, e é o seguinte:**\n",
        "\n",
        "\n",
        "```\n",
        "Sistema Operacional     Votos   %\n",
        "-------------------     -----   ---\n",
        "Windows Server           1500   17%\n",
        "Unix                     3500   40%\n",
        "Linux                    3000   34%\n",
        "Netware                   500    5%\n",
        "Mac OS                    150    2%\n",
        "Outro                     150    2%\n",
        "-------------------     -----\n",
        "Total                    8800\n",
        "\n",
        "O Sistema Operacional mais votado foi o Unix, com 3500 votos, correspondendo a 40% dos votos.\n",
        "```\n",
        "\n",
        "\n"
      ]
    },
    {
      "cell_type": "code",
      "metadata": {
        "id": "s1It43I2cyeF"
      },
      "source": [
        ""
      ],
      "execution_count": null,
      "outputs": []
    },
    {
      "cell_type": "markdown",
      "metadata": {
        "id": "s3AD2Kx0c54j"
      },
      "source": [
        "**Faça um programa que simule um lançamento de dados. Lance o dado 100 vezes e armazene os resultados em um vetor . Depois, mostre quantas vezes cada valor foi conseguido. Dica: use um vetor de contadores(1-6) e uma função para gerar numeros aleatórios, simulando os lançamentos dos dados.**"
      ]
    },
    {
      "cell_type": "code",
      "metadata": {
        "id": "eABNt9ozc7JY",
        "colab": {
          "base_uri": "https://localhost:8080/"
        },
        "outputId": "cdde7b52-ff92-4bf1-f6c8-449569c23b83"
      },
      "source": [
        "import random\n",
        "\n",
        "n = []\n",
        "n1 = n2 = n3 = n4 = n5 = n6 = 0\n",
        "\n",
        "for i in range(100):\n",
        "  n.append(random.randint(1, 6))\n",
        "\n",
        "  if n[i] == 1:\n",
        "    n1 += 1\n",
        "  elif n[i] == 2:\n",
        "    n2 += 1\n",
        "  elif n[i] == 3:\n",
        "    n3 += 1\n",
        "  elif n[i] == 4:\n",
        "    n4 += 1\n",
        "  elif n[i] == 5:\n",
        "    n5 += 1 \n",
        "  elif n[i] == 6:\n",
        "    n6 += 1\n",
        "\n",
        "print(f'{n1} vezes o número 1')\n",
        "print(f'{n2} vezes o número 2')\n",
        "print(f'{n3} vezes o número 3')\n",
        "print(f'{n4} vezes o número 4')\n",
        "print(f'{n5} vezes o número 5')\n",
        "print(f'{n6} vezes o número 6')"
      ],
      "execution_count": null,
      "outputs": [
        {
          "output_type": "stream",
          "name": "stdout",
          "text": [
            "15 vezes o número 1\n",
            "7 vezes o número 2\n",
            "18 vezes o número 3\n",
            "12 vezes o número 4\n",
            "20 vezes o número 5\n",
            "28 vezes o número 6\n"
          ]
        }
      ]
    }
  ]
}