{
  "nbformat": 4,
  "nbformat_minor": 0,
  "metadata": {
    "colab": {
      "name": "ExerciciosFuncoes.ipynb",
      "provenance": [],
      "collapsed_sections": [],
      "include_colab_link": true
    },
    "kernelspec": {
      "name": "python3",
      "display_name": "Python 3"
    },
    "language_info": {
      "name": "python"
    }
  },
  "cells": [
    {
      "cell_type": "markdown",
      "metadata": {
        "id": "view-in-github",
        "colab_type": "text"
      },
      "source": [
        "<a href=\"https://colab.research.google.com/github/marianafreis/AfroDev-Suzano/blob/main/ExerciciosFuncoes.ipynb\" target=\"_parent\"><img src=\"https://colab.research.google.com/assets/colab-badge.svg\" alt=\"Open In Colab\"/></a>"
      ]
    },
    {
      "cell_type": "markdown",
      "metadata": {
        "id": "mN9NfcazTEOa"
      },
      "source": [
        "## Funções "
      ]
    },
    {
      "cell_type": "markdown",
      "metadata": {
        "id": "OFD5ExjBQeeo"
      },
      "source": [
        "**Faça um programa para imprimir:**\n",
        "\n",
        "\n",
        "\n",
        "```\n",
        "    1\n",
        "    2   2\n",
        "    3   3   3\n",
        "    .....\n",
        "    n   n   n   n   n   n  ... n\n",
        "```\n",
        "\n",
        "para um **n** informado pelo usuário. Use uma função que receba um valor **n** inteiro e imprima até a n-ésima linha.\n",
        "\n"
      ]
    },
    {
      "cell_type": "code",
      "metadata": {
        "id": "hfch9cN-QQSN",
        "colab": {
          "base_uri": "https://localhost:8080/"
        },
        "outputId": "557bd463-8cd0-45cf-c0b3-9a0eda6d83cf"
      },
      "source": [
        "def imprimir_linha(n):\n",
        "  for i in range(1, n+1):\n",
        "    print(str(i) * i)\n",
        "\n",
        "num = int(input('Digite um valor inteiro: '))\n",
        "imprimir_linha(num)"
      ],
      "execution_count": 108,
      "outputs": [
        {
          "output_type": "stream",
          "name": "stdout",
          "text": [
            "Digite um valor inteiro: 5\n",
            "1\n",
            "22\n",
            "333\n",
            "4444\n",
            "55555\n"
          ]
        }
      ]
    },
    {
      "cell_type": "markdown",
      "metadata": {
        "id": "g_wUdiGURigX"
      },
      "source": [
        "**Faça um programa para imprimir:**\n",
        "\n",
        "```\n",
        "    1\n",
        "    1   2\n",
        "    1   2   3\n",
        "    .....\n",
        "    1   2   3   ...  n\n",
        "```\n",
        "\n",
        "para um **n** informado pelo usuário. Use uma função que receba um valor **n** inteiro imprima até a **n**-ésima linha.\n",
        "\n"
      ]
    },
    {
      "cell_type": "code",
      "metadata": {
        "id": "oMzs-yg5RtJd",
        "colab": {
          "base_uri": "https://localhost:8080/"
        },
        "outputId": "aba78789-e55f-4b34-b8c5-216bc577561c"
      },
      "source": [
        "def imprimir(n):\n",
        "  for i in range(1, n+2):\n",
        "    for j in range(1, i):   \n",
        "      print(j, ' ', end='')\n",
        "    print('')\n",
        "\n",
        "num = int(input('Digite um valor inteiro: '))\n",
        "imprimir(num)"
      ],
      "execution_count": null,
      "outputs": [
        {
          "output_type": "stream",
          "name": "stdout",
          "text": [
            "Digite um valor inteiro: 5\n",
            "\n",
            "1  \n",
            "1  2  \n",
            "1  2  3  \n",
            "1  2  3  4  \n",
            "1  2  3  4  5  \n"
          ]
        }
      ]
    },
    {
      "cell_type": "markdown",
      "metadata": {
        "id": "XfF7sM--R91K"
      },
      "source": [
        "**Faça um programa, com uma função que necessite de três argumentos, e que forneça a soma desses três argumentos.**"
      ]
    },
    {
      "cell_type": "code",
      "metadata": {
        "id": "qkQZri-0SBM6",
        "colab": {
          "base_uri": "https://localhost:8080/"
        },
        "outputId": "6ee01b65-1197-493e-e802-444ac09fcb10"
      },
      "source": [
        "def somar(a, b, c):\n",
        "  return a + b + c\n",
        "\n",
        "a = int(input('Digite um valor inteiro: '))\n",
        "b = int(input('Digite um valor inteiro: '))\n",
        "c = int(input('Digite um valor inteiro: '))\n",
        "\n",
        "somar(a,b,c)"
      ],
      "execution_count": null,
      "outputs": [
        {
          "name": "stdout",
          "output_type": "stream",
          "text": [
            "Digite um valor inteiro: 3\n",
            "Digite um valor inteiro: 3\n",
            "Digite um valor inteiro: 7\n"
          ]
        },
        {
          "output_type": "execute_result",
          "data": {
            "text/plain": [
              "13"
            ]
          },
          "metadata": {},
          "execution_count": 10
        }
      ]
    },
    {
      "cell_type": "markdown",
      "metadata": {
        "id": "vT_YJ-_3SBn9"
      },
      "source": [
        "**Faça um programa, com uma função que necessite de um argumento. A função retorna o valor de caractere ‘P’, se seu argumento for positivo, e ‘N’, se seu argumento for zero ou negativo.**"
      ]
    },
    {
      "cell_type": "code",
      "metadata": {
        "id": "GbuacdZZSGEB",
        "colab": {
          "base_uri": "https://localhost:8080/"
        },
        "outputId": "e2cf56c3-94b8-4986-a0ca-6fc5d4c13631"
      },
      "source": [
        "def verificar_numero(n):\n",
        "  if (n > 0):\n",
        "    print('P')\n",
        "  else:\n",
        "    print('N')\n",
        "\n",
        "n = int(input('Digite um valor inteiro: '))\n",
        "\n",
        "verificar_numero(n)"
      ],
      "execution_count": null,
      "outputs": [
        {
          "output_type": "stream",
          "name": "stdout",
          "text": [
            "Digite um valor inteiro: 5\n",
            "P\n"
          ]
        }
      ]
    },
    {
      "cell_type": "markdown",
      "metadata": {
        "id": "_J3S3DF-SGpa"
      },
      "source": [
        "**Faça um programa com uma função chamada somaImposto. A função possui dois parâmetros formais: taxaImposto, que é a quantia de imposto sobre vendas expressa em porcentagem e custo, que é o custo de um item antes do imposto. A função “altera” o valor de custo para incluir o imposto sobre vendas.**"
      ]
    },
    {
      "cell_type": "code",
      "metadata": {
        "id": "gdLd7R4xSOWa",
        "colab": {
          "base_uri": "https://localhost:8080/"
        },
        "outputId": "30ff1ddf-6b53-4d89-d0a1-85681a4b82ff"
      },
      "source": [
        "def soma_imposto(taxaImposto, custo):\n",
        "  custo += (custo * (taxaImposto/100))\n",
        "  print(custo)\n",
        "\n",
        "soma_imposto(35, 120)"
      ],
      "execution_count": 82,
      "outputs": [
        {
          "output_type": "stream",
          "name": "stdout",
          "text": [
            "162.0\n"
          ]
        }
      ]
    },
    {
      "cell_type": "markdown",
      "metadata": {
        "id": "i5j0AI9_SQUq"
      },
      "source": [
        "**Faça um programa que converta da notação de 24 horas para a notação de 12 horas. Por exemplo, o programa deve converter 14:25 em 2:25 P.M. A entrada é dada em dois inteiros. Deve haver pelo menos duas funções: uma para fazer a conversão e uma para a saída. Registre a informação A.M./P.M. como um valor ‘A’ para A.M. e ‘P’ para P.M. Assim, a função para efetuar as conversões terá um parâmetro formal para registrar se é A.M. ou P.M. Inclua um loop que permita que o usuário repita esse cálculo para novos valores de entrada todas as vezes que desejar**"
      ]
    },
    {
      "cell_type": "code",
      "metadata": {
        "id": "QQNQmEvYSVWB",
        "colab": {
          "base_uri": "https://localhost:8080/"
        },
        "outputId": "a6e5385d-a9ce-4ea9-dfa6-18c9a9df0f4b"
      },
      "source": [
        "def converter_hora(hora, minuto):\n",
        "  if hora >= 0 and hora < 24 and minuto >= 0 and minuto < 60:\n",
        "    if hora > 12:\n",
        "      hora -= 12\n",
        "      print(f'{hora}:{minuto} P.M')\n",
        "    elif hora == 0:\n",
        "      hora = 12\n",
        "      print(f'{hora}:{minuto} A.M')\n",
        "    elif hora == 12:\n",
        "      print(f'{hora}:{minuto} P.M')\n",
        "    else:\n",
        "      print(f'{hora}:{minuto} A.M')\n",
        "  else:\n",
        "    print('Horário Inválido')\n",
        "\n",
        "repetir = 1\n",
        "\n",
        "while repetir == 1:\n",
        "  hora = int(input('Informe a hora: '))\n",
        "  minuto = int(input('Informe os minutos: '))\n",
        "\n",
        "  converter_hora(hora, minuto)\n",
        "\n",
        "  repetir = int(input('Deseja repetir o cálculo?\\nDigite 1 para sim ou 0 para não '))\n"
      ],
      "execution_count": null,
      "outputs": [
        {
          "name": "stdout",
          "output_type": "stream",
          "text": [
            "Informe a hora: 24\n",
            "Informe os minutos: 40\n",
            "Horário Inválido\n",
            "Deseja repetir o cálculo?\n",
            "Digite 1 para sim ou 0 para não 1\n",
            "Informe a hora: 12\n",
            "Informe os minutos: 60\n",
            "Horário Inválido\n",
            "Deseja repetir o cálculo?\n",
            "Digite 1 para sim ou 0 para não 1\n",
            "Informe a hora: 16\n",
            "Informe os minutos: 27\n",
            "4:27 P.M\n",
            "Deseja repetir o cálculo?\n",
            "Digite 1 para sim ou 0 para não 0\n"
          ]
        }
      ]
    },
    {
      "cell_type": "markdown",
      "metadata": {
        "id": "pgP_sIO0SVyY"
      },
      "source": [
        "**Faça um programa que use a função valorPagamento para determinar o valor a ser pago por uma prestação de uma conta. O programa deverá solicitar ao usuário o valor da prestação e o número de dias em atraso e passar estes valores para a função valorPagamento, que calculará o valor a ser pago e devolverá este valor ao programa que a chamou. O programa deverá então exibir o valor a ser pago na tela. Após a execução o programa deverá voltar a pedir outro valor de prestação e assim continuar até que seja informado um valor igual a zero para a prestação. Neste momento o programa deverá ser encerrado, exibindo o relatório do dia, que conterá a quantidade e o valor total de prestações pagas no dia. O cálculo do valor a ser pago é feito da seguinte forma. Para pagamentos sem atraso, cobrar o valor da prestação. Quando houver atraso, cobrar 3% de multa, mais 0,1% de juros por dia de atraso.**"
      ]
    },
    {
      "cell_type": "code",
      "metadata": {
        "id": "5LlHaQ10SZDp",
        "colab": {
          "base_uri": "https://localhost:8080/"
        },
        "outputId": "31dd4717-d7ba-4bc1-ce53-7a47ec54b6e3"
      },
      "source": [
        "def valor_pagamento(valor, dias_atraso):\n",
        "  multa = 0.03\n",
        "  juros = 0.001\n",
        "  if dias_atraso == 0:\n",
        "    return valor\n",
        "  else:\n",
        "    juros *= dias_atraso\n",
        "    valor += (valor * multa)\n",
        "    valor += valor * juros\n",
        "    return valor\n",
        "\n",
        "count = 0\n",
        "\n",
        "while True:\n",
        "  valor = float(input('Informe o valor da prestação: '))\n",
        "  \n",
        "  if valor == 0:\n",
        "    break\n",
        "\n",
        "  dias_atraso = int(input('Informe o número de dias em atraso: '))\n",
        "\n",
        "  print(f'Valor total a ser pago: {valor_pagamento(valor, dias_atraso)}')"
      ],
      "execution_count": 81,
      "outputs": [
        {
          "name": "stdout",
          "output_type": "stream",
          "text": [
            "Informe o valor da prestação: 300\n",
            "Informe o número de dias em atraso: 5\n",
            "Valor total a ser pago: 310.545\n",
            "Informe o valor da prestação: 0\n"
          ]
        }
      ]
    },
    {
      "cell_type": "markdown",
      "metadata": {
        "id": "7QN_BPa8SZmK"
      },
      "source": [
        "**Faça uma função que informe a quantidade de dígitos de um determinado número inteiro informado.**"
      ]
    },
    {
      "cell_type": "code",
      "metadata": {
        "id": "1egzHj3ESg1w",
        "colab": {
          "base_uri": "https://localhost:8080/"
        },
        "outputId": "b7028c13-d9b7-441b-991a-d1ce98abd27a"
      },
      "source": [
        "def quantidade_digitos(num):\n",
        "    return len(num)\n",
        "\n",
        "num = str(input('Digite um número: '))\n",
        "\n",
        "print(f'O número tem {quantidade_digitos(num)} dígitos')"
      ],
      "execution_count": null,
      "outputs": [
        {
          "output_type": "stream",
          "name": "stdout",
          "text": [
            "Digite um número: 65432\n",
            "O número tem 5 dígitos\n"
          ]
        }
      ]
    },
    {
      "cell_type": "markdown",
      "metadata": {
        "id": "ZMIz_AC3ShYB"
      },
      "source": [
        "**Reverso do número.** Faça uma função que retorne o reverso de um número inteiro informado. Por exemplo: 127 -> 721."
      ]
    },
    {
      "cell_type": "code",
      "metadata": {
        "id": "weEFkEpxSmCE",
        "colab": {
          "base_uri": "https://localhost:8080/"
        },
        "outputId": "e41d7cac-fe00-4b1d-efca-5017c1db4c51"
      },
      "source": [
        "num = str(input('Informe um número: '))\n",
        "\n",
        "def numero_reverso(num):\n",
        "  print(num[::-1])\n",
        "\n",
        "numero_reverso(num)"
      ],
      "execution_count": null,
      "outputs": [
        {
          "output_type": "stream",
          "name": "stdout",
          "text": [
            "Informe um número: 987654321\n",
            "123456789\n"
          ]
        }
      ]
    },
    {
      "cell_type": "markdown",
      "metadata": {
        "id": "g15AaiobSoCH"
      },
      "source": [
        "**Jogo de Craps.** Faça um programa de implemente um jogo de Craps. O jogador lança um par de dados, obtendo um valor entre 2 e 12. Se, na primeira jogada, você tirar 7 ou 11, você um \"natural\" e ganhou. Se você tirar 2, 3 ou 12 na primeira jogada, isto é chamado de \"craps\" e você perdeu. Se, na primeira jogada, você fez um 4, 5, 6, 8, 9 ou 10,este é seu \"Ponto\". Seu objetivo agora é continuar jogando os dados até tirar este número novamente. Você perde, no entanto, se tirar um 7 antes de tirar este Ponto novamente."
      ]
    },
    {
      "cell_type": "code",
      "metadata": {
        "id": "ywJbHz3DSqv2",
        "colab": {
          "base_uri": "https://localhost:8080/"
        },
        "outputId": "882129ee-61cc-462c-e51b-8d27736b808a"
      },
      "source": [
        "import random\n",
        "\n",
        "def lancar_dados():\n",
        "  dado1 = random.randint(1, 6)\n",
        "  dado2 = random.randint(1, 6)\n",
        "\n",
        "  print(f'Dado 1: {dado1}\\nDado 2: {dado2}')\n",
        "  print(f'Total: {dado1 + dado2}')\n",
        "\n",
        "  return dado1 + dado2\n",
        "\n",
        "while True:\n",
        "  jogar = input('Rolar dados? (S ou N) ')\n",
        "  if jogar == 'N' or jogar == 'n':\n",
        "    break\n",
        "  else:\n",
        "    valor = lancar_dados()\n",
        "    if valor == 7 or valor == 11:\n",
        "      print('Você tem um natural, você ganhou!')\n",
        "    elif valor == 2 or valor == 3 or valor == 12:\n",
        "      print('CRAPS! Você perdeu')\n",
        "    else:\n",
        "      ponto = valor\n",
        "      print(f'Seu ponto é: {ponto}')\n",
        "      while True:\n",
        "        valor = lancar_dados()\n",
        "        if valor == 7:\n",
        "          print('Você perdeu!')\n",
        "          break\n",
        "        elif valor == ponto:\n",
        "          print('Parabéns, você ganhou!')\n",
        "          break"
      ],
      "execution_count": 74,
      "outputs": [
        {
          "name": "stdout",
          "output_type": "stream",
          "text": [
            "Rolar dados? (S ou N) s\n",
            "Dado 1: 5\n",
            "Dado 2: 6\n",
            "Total: 11\n",
            "Você tem um natural, você ganhou!\n",
            "Rolar dados? (S ou N) s\n",
            "Dado 1: 4\n",
            "Dado 2: 5\n",
            "Total: 9\n",
            "Seu ponto é: 9\n",
            "Dado 1: 6\n",
            "Dado 2: 3\n",
            "Total: 9\n",
            "Parabéns, você ganhou!\n",
            "Rolar dados? (S ou N) s\n",
            "Dado 1: 5\n",
            "Dado 2: 6\n",
            "Total: 11\n",
            "Você tem um natural, você ganhou!\n",
            "Rolar dados? (S ou N) s\n",
            "Dado 1: 3\n",
            "Dado 2: 6\n",
            "Total: 9\n",
            "Seu ponto é: 9\n",
            "Dado 1: 4\n",
            "Dado 2: 1\n",
            "Total: 5\n",
            "Dado 1: 1\n",
            "Dado 2: 6\n",
            "Total: 7\n",
            "Você perdeu!\n",
            "Rolar dados? (S ou N) s\n",
            "Dado 1: 4\n",
            "Dado 2: 3\n",
            "Total: 7\n",
            "Você tem um natural, você ganhou!\n",
            "Rolar dados? (S ou N) s\n",
            "Dado 1: 4\n",
            "Dado 2: 3\n",
            "Total: 7\n",
            "Você tem um natural, você ganhou!\n",
            "Rolar dados? (S ou N) s\n",
            "Dado 1: 6\n",
            "Dado 2: 2\n",
            "Total: 8\n",
            "Seu ponto é: 8\n",
            "Dado 1: 3\n",
            "Dado 2: 3\n",
            "Total: 6\n",
            "Dado 1: 5\n",
            "Dado 2: 1\n",
            "Total: 6\n",
            "Dado 1: 4\n",
            "Dado 2: 3\n",
            "Total: 7\n",
            "Você perdeu!\n",
            "Rolar dados? (S ou N) n\n"
          ]
        }
      ]
    },
    {
      "cell_type": "markdown",
      "metadata": {
        "id": "Z7psSn6QSs_R"
      },
      "source": [
        "**Data com mês por extenso.** Construa uma função que receba uma data no formato DD/MM/AAAA e devolva uma string no formato D de mesPorExtenso de AAAA. Opcionalmente, valide a data e retorne NULL caso a data seja inválida."
      ]
    },
    {
      "cell_type": "code",
      "metadata": {
        "id": "_-YiVq_USueK",
        "colab": {
          "base_uri": "https://localhost:8080/"
        },
        "outputId": "0f0e11c0-1246-4fa9-f46e-8d67d0145736"
      },
      "source": [
        "def valida_data(data):\n",
        "  global d, m, a\n",
        "  data = data.split('/')\n",
        "  d = int(data[0])\n",
        "  m = int(data[1])\n",
        "  a = int(data[2])\n",
        "\n",
        "  if m >= 1 and m <= 12:\n",
        "    if (m == 1) or (m == 3) or (m == 5) or (m == 7) or (m == 8) or (m == 10) or (m == 12):\n",
        "      if d >= 1 and d <= 31:\n",
        "        return 'OK'\n",
        "      else:\n",
        "        return 'NULL'\n",
        "    elif (m == 4) or (m == 6) or (m == 9) or (m == 11):\n",
        "      if d >= 1 and d <= 30:\n",
        "        return 'OK'\n",
        "      else:\n",
        "        return 'NULL'\n",
        "    elif m == 2:\n",
        "      if d == 29:\n",
        "        if (a % 4 == 0 and a % 100 != 0) or (a % 400 == 0):\n",
        "          return 'OK'\n",
        "        else:\n",
        "          return 'NULL'\n",
        "  else:\n",
        "    return 'NULL'\n",
        "\n",
        "data = input('Informe a data no formato dd/mm/aaaa: ')\n",
        "\n",
        "mes = ['', 'Janeiro', 'Fevereiro', 'Março', 'Abril', 'Maio', 'Junho', 'Julho', 'Agosto', 'Setembro', 'Outubro', 'Novembro', 'Dezembro']\n",
        "\n",
        "valida = valida_data(data)\n",
        "\n",
        "if valida == 'OK':\n",
        "  print(f'{d} de {mes[m]} de {a}')\n",
        "else:\n",
        "  print('Data Inválida')"
      ],
      "execution_count": 80,
      "outputs": [
        {
          "output_type": "stream",
          "name": "stdout",
          "text": [
            "Informe a data no formato dd/mm/aaaa: 29/02/2021\n",
            "Data Inválida\n"
          ]
        }
      ]
    },
    {
      "cell_type": "markdown",
      "metadata": {
        "id": "hrCLui_7SvVQ"
      },
      "source": [
        "**Embaralha palavra.** Construa uma função que receba uma string como parâmetro e devolva outra string com os carateres embaralhados. Por exemplo: se função receber a palavra python, pode retornar npthyo, ophtyn ou qualquer outra combinação possível, de forma aleatória. Padronize em sua função que todos os caracteres serão devolvidos em caixa alta ou caixa baixa, independentemente de como foram digitados."
      ]
    },
    {
      "cell_type": "code",
      "metadata": {
        "id": "X_R2eFoRSyvi",
        "colab": {
          "base_uri": "https://localhost:8080/",
          "height": 51
        },
        "outputId": "53195fdc-951a-4c25-8be6-1fd4a6a6e2cb"
      },
      "source": [
        "from random import sample\n",
        "\n",
        "def embaralha_palavra(palavra):\n",
        "  embaralhada = ''.join(sample(palavra,len(palavra)))\n",
        "  return embaralhada\n",
        "\n",
        "palavra = input('Digite uma palavra: ')\n",
        "embaralha_palavra(palavra)"
      ],
      "execution_count": 95,
      "outputs": [
        {
          "name": "stdout",
          "output_type": "stream",
          "text": [
            "Digite uma palavra: mariana\n"
          ]
        },
        {
          "output_type": "execute_result",
          "data": {
            "application/vnd.google.colaboratory.intrinsic+json": {
              "type": "string"
            },
            "text/plain": [
              "'niamraa'"
            ]
          },
          "metadata": {},
          "execution_count": 95
        }
      ]
    },
    {
      "cell_type": "markdown",
      "metadata": {
        "id": "bHAHBgE2SzIC"
      },
      "source": [
        "**Desenha moldura.** Construa uma função que desenhe um retângulo usando os caracteres ‘+’ , ‘−’ e ‘| ‘. Esta função deve receber dois parâmetros, linhas e colunas, sendo que o valor por omissão é o valor mínimo igual a 1 e o valor máximo é 20. Se valores fora da faixa forem informados, eles devem ser modificados para valores dentro da faixa de forma elegante."
      ]
    },
    {
      "cell_type": "code",
      "metadata": {
        "id": "jejrLAAOS2S2",
        "colab": {
          "base_uri": "https://localhost:8080/"
        },
        "outputId": "86731826-e711-4037-ec38-c07ef7163d1c"
      },
      "source": [
        "def desenha_moldura(altura, largura):\n",
        "  print(\"+\",\"−\"*largura,\"+\")\n",
        "  for i in range(altura):\n",
        "    print(\"|\",\" \"*largura,\"|\")\n",
        "  print(\"+\",\"−\"*largura,\"+\")\n",
        "\n",
        "altura = int(input('Altura do retângulo '))\n",
        "largura = int(input('Largura do retangulo '))\n",
        "if altura == '' or altura == 0:\n",
        "  altura = 1\n",
        "elif altura > 20:\n",
        "  altura = 20\n",
        "\n",
        "if largura == '' or largura == 0:\n",
        "  largura = 1\n",
        "elif largura > 20:\n",
        "  largura = 20\n",
        "\n",
        "desenha_moldura(altura, largura)"
      ],
      "execution_count": 107,
      "outputs": [
        {
          "output_type": "stream",
          "name": "stdout",
          "text": [
            "Altura do retângulo 2\n",
            "Largura do retangulo 7\n",
            "+ −−−−−−− +\n",
            "|         |\n",
            "|         |\n",
            "+ −−−−−−− +\n"
          ]
        }
      ]
    },
    {
      "cell_type": "markdown",
      "metadata": {
        "id": "NrEvpsgvS2tY"
      },
      "source": [
        "**Quadrado mágico.** Um quadrado mágico é aquele dividido em linhas e colunas, com um número em cada posição e no qual a soma das linhas, colunas e diagonais é a mesma. Por exemplo, veja um quadrado mágico de lado 3, com números de 1 a 9:\n",
        "\n",
        "```\n",
        "8  3  4 \n",
        "1  5  9\n",
        "6  7  2\n",
        "```\n",
        "\n",
        "Elabore uma função que identifica e mostra na tela todos os quadrados mágicos com as características acima. Dica: produza todas as combinações possíveis e verifique a soma quando completar cada quadrado. Usar um vetor de 1 a 9 parece ser mais simples que usar uma matriz 3x3.\n",
        "\n"
      ]
    },
    {
      "cell_type": "code",
      "metadata": {
        "id": "tgg7vm8FTBu2"
      },
      "source": [
        ""
      ],
      "execution_count": null,
      "outputs": []
    }
  ]
}