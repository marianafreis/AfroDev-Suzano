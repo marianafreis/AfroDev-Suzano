{
  "nbformat": 4,
  "nbformat_minor": 0,
  "metadata": {
    "colab": {
      "name": "OOP.ipynb",
      "provenance": [],
      "collapsed_sections": [],
      "include_colab_link": true
    },
    "kernelspec": {
      "name": "python3",
      "display_name": "Python 3"
    },
    "language_info": {
      "name": "python"
    }
  },
  "cells": [
    {
      "cell_type": "markdown",
      "metadata": {
        "id": "view-in-github",
        "colab_type": "text"
      },
      "source": [
        "<a href=\"https://colab.research.google.com/github/marianafreis/AfroDev-Suzano/blob/main/OOP.ipynb\" target=\"_parent\"><img src=\"https://colab.research.google.com/assets/colab-badge.svg\" alt=\"Open In Colab\"/></a>"
      ]
    },
    {
      "cell_type": "markdown",
      "metadata": {
        "id": "kSnECJ8JxbCu"
      },
      "source": [
        "#POO -  Programação Orientada a Objetos "
      ]
    },
    {
      "cell_type": "markdown",
      "metadata": {
        "id": "0nCCFOpexq_X"
      },
      "source": [
        "**Classe Bola: Crie uma classe que modele uma bola:**\n",
        "1. Atributos: Cor, circunferência, material\n",
        "2. Métodos: trocaCor e mostraCor\n",
        "\n"
      ]
    },
    {
      "cell_type": "code",
      "metadata": {
        "id": "WwJHQsnoxXIj",
        "colab": {
          "base_uri": "https://localhost:8080/"
        },
        "outputId": "255892fc-7309-4128-ac7b-ce793cdb892a"
      },
      "source": [
        "class Bola():\n",
        "  def __init__(self, cor, circunferencia, material):\n",
        "    self.cor = cor\n",
        "    self.c = circunferencia\n",
        "    self.m = material\n",
        "\n",
        "  def set_troca_cor(self, cor):\n",
        "    self.cor = cor\n",
        "\n",
        "  def get_mostra_cor(self):\n",
        "    return self.cor\n",
        "\n",
        "c = input('Digite a cor: ')\n",
        "b = Bola('rosa', 16, 'couro')\n",
        "print(b.cor)\n",
        "\n",
        "b.set_troca_cor(c)\n",
        "\n",
        "print(b.cor)"
      ],
      "execution_count": null,
      "outputs": [
        {
          "output_type": "stream",
          "name": "stdout",
          "text": [
            "Digite a cor: azul\n",
            "rosa\n",
            "azul\n"
          ]
        }
      ]
    },
    {
      "cell_type": "markdown",
      "metadata": {
        "id": "GHlTXTq_yVKi"
      },
      "source": [
        "**Classe Quadrado: Crie uma classe que modele um quadrado:**\n",
        "1. Atributos: Tamanho do lado\n",
        "2. Métodos: Mudar valor do Lado, Retornar valor do Lado e calcular Área;\n"
      ]
    },
    {
      "cell_type": "code",
      "metadata": {
        "id": "q2RhHzFjyZ5j",
        "colab": {
          "base_uri": "https://localhost:8080/"
        },
        "outputId": "750af1fb-58c2-4866-df0f-10863e610532"
      },
      "source": [
        "class Quadrado:\n",
        "  def __init__(self, lado):\n",
        "    self.set_lado(lado)\n",
        "\n",
        "  def set_lado(self, lado):\n",
        "    self.lado = lado\n",
        "\n",
        "  def get_lado(self):\n",
        "    return self.lado\n",
        "  \n",
        "  def calcula_area(self):\n",
        "    return self.lado * self.lado\n",
        "\n",
        "valor = int(input('Digite o tamanho do lado do quadrado: '))\n",
        "q = Quadrado(valor)\n",
        "print(f'A área do quadrado é: {q.calcula_area()}')"
      ],
      "execution_count": null,
      "outputs": [
        {
          "output_type": "stream",
          "name": "stdout",
          "text": [
            "Digite o tamanho do lado do quadrado: 5\n",
            "A área do quadrado é: 25\n"
          ]
        }
      ]
    },
    {
      "cell_type": "markdown",
      "metadata": {
        "id": "r6qRkNM0yhp5"
      },
      "source": [
        "**Classe Retangulo: Crie uma classe que modele um retangulo:**\n",
        "1. Atributos: LadoA, LadoB (ou Comprimento e Largura, ou Base e Altura, a escolher)\n",
        "2. Métodos: Mudar valor dos lados, Retornar valor dos lados, calcular Área e calcular Perímetro;\n",
        "3. Crie um programa que utilize esta classe. Ele deve pedir ao usuário que informe as medidades de um local. Depois, deve criar um objeto com as medidas e calcular a quantidade de pisos e de rodapés necessárias para o local.\n"
      ]
    },
    {
      "cell_type": "code",
      "metadata": {
        "id": "9Pb_wsUcys1S",
        "colab": {
          "base_uri": "https://localhost:8080/"
        },
        "outputId": "64452332-c8bf-4d57-9fa0-c81cd06d7842"
      },
      "source": [
        "class Retangulo:\n",
        "  def __init__(self, base, altura):\n",
        "    self.base = base\n",
        "    self.altura = altura\n",
        "\n",
        "  def set_lados(self, base, altura):\n",
        "    self.base = base\n",
        "    self.altura = altura\n",
        "\n",
        "  def get_lados(self):\n",
        "    return (self.base, self.altura)\n",
        "  \n",
        "  def calcula_area(self):\n",
        "    return self.base * self.altura\n",
        "\n",
        "  def calcula_perimetro(self):\n",
        "    return (self.base * 2) + (self.altura * 2)\n",
        "\n",
        "r = Retangulo(5, 7)\n",
        "\n",
        "print(f'A área do retângulo é: {r.calcula_area()}')\n",
        "print(f'O perímetro do retângulo é: {r.calcula_perimetro()}')\n",
        "\n",
        "b = int(input('Digite a base do retângulo: '))\n",
        "a = int(input('Digite a altura do retângulo: '))\n",
        "\n",
        "r.set_lados(b, a)\n",
        "\n",
        "print(f'A área do retângulo é: {r.calcula_area()}')\n",
        "print(f'O perímetro do retângulo é: {r.calcula_perimetro()}')"
      ],
      "execution_count": null,
      "outputs": [
        {
          "output_type": "stream",
          "name": "stdout",
          "text": [
            "A área do retângulo é: 35\n",
            "O perímetro do retângulo é: 24\n",
            "Digite a base do retângulo: 10\n",
            "Digite a altura do retângulo: 12\n",
            "A área do retângulo é: 120\n",
            "O perímetro do retângulo é: 44\n"
          ]
        }
      ]
    },
    {
      "cell_type": "markdown",
      "metadata": {
        "id": "KXBM-DFCyteB"
      },
      "source": [
        "**Classe Pessoa: Crie uma classe que modele uma pessoa:**\n",
        "1. Atributos: nome, idade, peso e altura\n",
        "2. Métodos: Envelhercer, engordar, emagrecer, crescer. Obs: Por padrão, a cada ano que nossa pessoa envelhece, sendo a idade dela menor que 21 anos, ela deve crescer 0,5 cm."
      ]
    },
    {
      "cell_type": "code",
      "metadata": {
        "id": "5U8gWuKoy0NL",
        "colab": {
          "base_uri": "https://localhost:8080/"
        },
        "outputId": "53efd78b-ec1d-4ff0-a4ab-22ed52b61b43"
      },
      "source": [
        "class Pessoa:\n",
        "  def __init__(self, nome, idade, peso, altura):\n",
        "    self.nome = nome\n",
        "    self.idade = idade\n",
        "    self.peso = peso\n",
        "    self.altura = altura\n",
        "\n",
        "  def envelhecer(self):\n",
        "    if self.idade < 21:\n",
        "      self.altura += 0.5\n",
        "\n",
        "    self.idade += 1\n",
        "\n",
        "  def engordar(self, peso):\n",
        "    self.peso += peso\n",
        "\n",
        "  def crescer(self, altura):\n",
        "    self.altura += altura\n",
        "\n",
        "  def get_pessoa(self):\n",
        "    print(f'Nome: {self.nome}\\nIdade: {self.idade} anos\\nPeso: {self.peso} kg\\nAltura: {self.altura} cm')\n",
        "\n",
        "pessoa = Pessoa('Ana', 19, 60, 170)\n",
        "pessoa.get_pessoa()\n",
        "pessoa.envelhecer()\n",
        "pessoa.get_pessoa()\n",
        "pessoa.engordar(2.5)\n",
        "pessoa.get_pessoa()\n",
        "pessoa.crescer(1)\n",
        "pessoa.get_pessoa()"
      ],
      "execution_count": null,
      "outputs": [
        {
          "output_type": "stream",
          "name": "stdout",
          "text": [
            "Nome: Ana\n",
            "Idade: 19 anos\n",
            "Peso: 60 kg\n",
            "Altura: 170 cm\n",
            "Nome: Ana\n",
            "Idade: 20 anos\n",
            "Peso: 60 kg\n",
            "Altura: 170.5 cm\n",
            "Nome: Ana\n",
            "Idade: 20 anos\n",
            "Peso: 62.5 kg\n",
            "Altura: 170.5 cm\n",
            "Nome: Ana\n",
            "Idade: 20 anos\n",
            "Peso: 62.5 kg\n",
            "Altura: 171.5 cm\n"
          ]
        }
      ]
    },
    {
      "cell_type": "markdown",
      "metadata": {
        "id": "W2OmPreJy1FA"
      },
      "source": [
        "**Classe Conta Corrente: Crie uma classe para implementar uma conta corrente. A classe deve possuir os seguintes atributos: número da conta, nome do correntista e saldo. Os métodos são os seguintes: alterarNome, depósito e saque; No construtor, saldo é opcional, com valor default zero e os demais atributos são obrigatórios.**"
      ]
    },
    {
      "cell_type": "code",
      "metadata": {
        "id": "yttpbjlAy4gj",
        "colab": {
          "base_uri": "https://localhost:8080/"
        },
        "outputId": "679e81f6-05dc-4498-b608-0c5daf990d18"
      },
      "source": [
        "class ContaCorrente:\n",
        "  def __init__(self, numero, nome, saldo = 0):\n",
        "    self.numero = numero\n",
        "    self.nome = nome\n",
        "    self.saldo = saldo\n",
        "\n",
        "  def alterar_nome(self, nome):\n",
        "    self.nome = nome\n",
        "\n",
        "  def deposito(self, valor):\n",
        "    self.saldo += valor\n",
        "\n",
        "  def saque(self, valor):\n",
        "    self.saldo -= valor\n",
        "\n",
        "  def get_conta(self):\n",
        "    print(f'Nome: {self.nome}\\nNúmero da conta: {self.numero}\\nSaldo: {self.saldo}')\n",
        "\n",
        "conta = ContaCorrente(12345, 'João', 2000)\n",
        "conta.get_conta()\n",
        "conta.alterar_nome('Marcelo')\n",
        "conta.get_conta()\n",
        "conta.deposito(500)\n",
        "conta.get_conta()\n",
        "conta.saque(220)\n",
        "conta.get_conta()"
      ],
      "execution_count": null,
      "outputs": [
        {
          "output_type": "stream",
          "name": "stdout",
          "text": [
            "Nome: João\n",
            "Número da conta: 12345\n",
            "Saldo: 2000\n",
            "Nome: Marcelo\n",
            "Número da conta: 12345\n",
            "Saldo: 2000\n",
            "Nome: Marcelo\n",
            "Número da conta: 12345\n",
            "Saldo: 2500\n",
            "Nome: Marcelo\n",
            "Número da conta: 12345\n",
            "Saldo: 2280\n"
          ]
        }
      ]
    },
    {
      "cell_type": "markdown",
      "metadata": {
        "id": "iBmyXl6xy5A5"
      },
      "source": [
        "**Classe TV: Faça um programa que simule um televisor criando-o como um objeto. O usuário deve ser capaz de informar o número do canal e aumentar ou diminuir o volume. Certifique-se de que o número do canal e o nível do volume permanecem dentro de faixas válidas.**"
      ]
    },
    {
      "cell_type": "code",
      "metadata": {
        "id": "Swr4oRCUy7mG",
        "colab": {
          "base_uri": "https://localhost:8080/"
        },
        "outputId": "4e09e8af-4557-445d-a101-e9ae1f252772"
      },
      "source": [
        "class Tv:\n",
        "  def __init__(self, canal, volume):\n",
        "    self.canal = canal\n",
        "    self.volume = volume\n",
        "\n",
        "  def get_canal(self):\n",
        "    print(f'\\nCanal Atual: {self.canal}')\n",
        "\n",
        "  def set_canal(self, canal):\n",
        "    if canal.isdigit():\n",
        "      self.canal = canal\n",
        "    else:\n",
        "      print('\\nCanal inválido!')\n",
        "\n",
        "  def get_volume(self):\n",
        "    print(f'\\nVolume: {self.volume}')\n",
        "\n",
        "  def aumentar_volume(self):\n",
        "    if self.volume < 100:\n",
        "      self.volume += 1\n",
        "    else:\n",
        "      print('\\nVolume máximo')\n",
        "\n",
        "  def diminuir_volume(self):\n",
        "    if self.volume > 0:\n",
        "      self.volume -= 1\n",
        "    else:\n",
        "      print('\\nMute')\n",
        "\n",
        "tv = Tv(5, 100)\n",
        "\n",
        "while True:\n",
        "  print('Opções:')\n",
        "  print('1 - Mudar canal')\n",
        "  print('2 - Aumentar volume')\n",
        "  print('3 - Diminuir volume')\n",
        "  print('4 - Mostrar canal')\n",
        "  print('5 - Mostrar volume')\n",
        "  print('6 - Desligar')\n",
        "  opcao = int(input('Selecionar: '))\n",
        "\n",
        "  if opcao == 1:\n",
        "    canal = input('\\nDigite o canal: ')\n",
        "    tv.set_canal(canal)\n",
        "  elif opcao == 2:\n",
        "    tv.aumentar_volume()\n",
        "  elif opcao == 3:\n",
        "    tv.diminuir_volume()\n",
        "  elif opcao == 4:\n",
        "    tv.get_canal()\n",
        "  elif opcao == 5:\n",
        "    tv.get_volume()\n",
        "  elif opcao == 6:\n",
        "    print('\\nDesligando')\n",
        "    break\n",
        "  else:\n",
        "    print('\\nOpção inválida')\n"
      ],
      "execution_count": null,
      "outputs": [
        {
          "output_type": "stream",
          "name": "stdout",
          "text": [
            "Opções:\n",
            "1 - Mudar canal\n",
            "2 - Aumentar volume\n",
            "3 - Diminuir volume\n",
            "4 - Mostrar canal\n",
            "5 - Mostrar volume\n",
            "6 - Desligar\n",
            "Selecionar: 4\n",
            "\n",
            "Canal Atual: 5\n",
            "Opções:\n",
            "1 - Mudar canal\n",
            "2 - Aumentar volume\n",
            "3 - Diminuir volume\n",
            "4 - Mostrar canal\n",
            "5 - Mostrar volume\n",
            "6 - Desligar\n",
            "Selecionar: 1\n",
            "\n",
            "Digite o canal: 10\n",
            "Opções:\n",
            "1 - Mudar canal\n",
            "2 - Aumentar volume\n",
            "3 - Diminuir volume\n",
            "4 - Mostrar canal\n",
            "5 - Mostrar volume\n",
            "6 - Desligar\n",
            "Selecionar: 2\n",
            "\n",
            "Volume máximo\n",
            "Opções:\n",
            "1 - Mudar canal\n",
            "2 - Aumentar volume\n",
            "3 - Diminuir volume\n",
            "4 - Mostrar canal\n",
            "5 - Mostrar volume\n",
            "6 - Desligar\n",
            "Selecionar: 5\n",
            "\n",
            "Volume: 100\n",
            "Opções:\n",
            "1 - Mudar canal\n",
            "2 - Aumentar volume\n",
            "3 - Diminuir volume\n",
            "4 - Mostrar canal\n",
            "5 - Mostrar volume\n",
            "6 - Desligar\n",
            "Selecionar: 6\n",
            "\n",
            "Desligando\n"
          ]
        }
      ]
    },
    {
      "cell_type": "markdown",
      "metadata": {
        "id": "Q5F2FENAy8PX"
      },
      "source": [
        "**Classe Bichinho Virtual:Crie uma classe que modele um Tamagushi (Bichinho Eletrônico):**\n",
        "\n",
        "1. Atributos: Nome, Fome, Saúde e Idade b. Métodos: Alterar Nome, Fome, Saúde e Idade; Retornar Nome, Fome, Saúde e Idade Obs: Existe mais uma informação que devemos levar em consideração, o Humor do nosso tamagushi, este humor é uma combinação entre os atributos Fome e Saúde, ou seja, um campo calculado, então não devemos criar um atributo para armazenar esta informação por que ela pode ser calculada a qualquer momento."
      ]
    },
    {
      "cell_type": "code",
      "metadata": {
        "id": "5BMpjko0zIHk",
        "colab": {
          "base_uri": "https://localhost:8080/"
        },
        "outputId": "45c744dc-3b40-41a7-eb3f-cd3a92ee49f6"
      },
      "source": [
        "class BichinhoVirtual:\n",
        "  def __init__(self, nome):\n",
        "    self.nome = nome\n",
        "    self.fome = 100\n",
        "    self.saude = 100\n",
        "    self. idade = 0\n",
        "\n",
        "  def get_nome(self):\n",
        "    return self.nome\n",
        "\n",
        "  def set_nome(self, nome):\n",
        "    self.nome = nome\n",
        "\n",
        "  def get_idade(self):\n",
        "    return self.idade\n",
        "\n",
        "  def set_idade(self, idade):\n",
        "    self.idade = idade\n",
        "\n",
        "  def get_fome(self):\n",
        "    return self.fome\n",
        "\n",
        "  def set_fome(self, fome):\n",
        "    self.fome = fome\n",
        "\n",
        "  def get_saude(self):\n",
        "    return self.saude\n",
        "\n",
        "  def set_saude(self, saude):\n",
        "    self.saude = saude\n",
        "\n",
        "  def get_humor(self):\n",
        "    if self.get_fome() >= 75 and self.get_saude() >= 70:\n",
        "      return 'Feliz!'\n",
        "    elif self.get_fome() >= 50 and self.get_saude() >= 50:\n",
        "      return 'Ok!'\n",
        "    elif self.get_fome() >= 25 and self.get_saude() >= 25:\n",
        "      return 'Chateado!'\n",
        "    else:\n",
        "      return 'To passando mal!!!'\n",
        "\n",
        "bichinho = BichinhoVirtual('Amora')\n",
        "\n",
        "print(bichinho.get_nome())\n",
        "print(bichinho.get_humor())\n",
        "\n",
        "bichinho.set_fome(10)\n",
        "bichinho.set_saude(40)\n",
        "\n",
        "print(bichinho.get_humor())"
      ],
      "execution_count": null,
      "outputs": [
        {
          "output_type": "stream",
          "name": "stdout",
          "text": [
            "Amora\n",
            "Feliz!\n",
            "To passando mal!!!\n"
          ]
        }
      ]
    },
    {
      "cell_type": "markdown",
      "metadata": {
        "id": "QafrCFunzIzP"
      },
      "source": [
        "**Classe Macaco: Desenvolva uma classe Macaco,que possua os atributos nome e bucho (estomago) e pelo menos os métodos comer(), verBucho() e digerir(). Faça um programa ou teste interativamente, criando pelo menos dois macacos, alimentando-os com pelo menos 3 alimentos diferentes e verificando o conteúdo do estomago a cada refeição. Experimente fazer com que um macaco coma o outro. É possível criar um macaco canibal?**"
      ]
    },
    {
      "cell_type": "code",
      "metadata": {
        "id": "cnt6XW0TzMYd",
        "colab": {
          "base_uri": "https://localhost:8080/"
        },
        "outputId": "d1a36455-629d-4674-b6e4-de615ffb0800"
      },
      "source": [
        "class Macaco:\n",
        "  def __init__(self, nome):\n",
        "    self.nome = nome\n",
        "    self.bucho = []\n",
        "\n",
        "  def comer(self, comida):\n",
        "    self.bucho.append(comida)\n",
        "\n",
        "  def ver_bucho(self):\n",
        "    return self.bucho\n",
        "\n",
        "  def digerir(self):\n",
        "    del(self.bucho[0])\n",
        "\n",
        "macaco1 = Macaco('Marcel')\n",
        "macaco2 = Macaco('Kong')\n",
        "\n",
        "macaco1.comer('Banana')\n",
        "print(macaco1.ver_bucho())\n",
        "macaco1.comer('Maçã')\n",
        "print(macaco1.ver_bucho())\n",
        "macaco1.comer('Melão')\n",
        "print(macaco1.ver_bucho())\n",
        "macaco1.digerir()\n",
        "print(macaco1.ver_bucho())\n",
        "macaco1.digerir()\n",
        "print(macaco1.ver_bucho())\n",
        "\n",
        "macaco2.comer('Banana')\n",
        "print(macaco2.ver_bucho())\n",
        "\n",
        "macaco1.comer(macaco2)\n",
        "print(macaco1.ver_bucho())"
      ],
      "execution_count": null,
      "outputs": [
        {
          "output_type": "stream",
          "name": "stdout",
          "text": [
            "['Banana']\n",
            "['Banana', 'Maçã']\n",
            "['Banana', 'Maçã', 'Melão']\n",
            "['Maçã', 'Melão']\n",
            "['Melão']\n",
            "['Banana']\n",
            "['Melão', <__main__.Macaco object at 0x7fe364c9c050>]\n"
          ]
        }
      ]
    },
    {
      "cell_type": "markdown",
      "metadata": {
        "id": "58I6f_5EzM59"
      },
      "source": [
        "**Classe Ponto e Retangulo: Faça um programa completo utilizando funções e classes que:**\n",
        "1. Possua uma classe chamada Ponto, com os atributos x e y.\n",
        "2. Possua uma classe chamada Retangulo, com os atributos largura e altura.\n",
        "3. Possua uma função para imprimir os valores da classe Ponto\n",
        "4. Possua uma função para encontrar o centro de um Retângulo.\n",
        "5. Você deve criar alguns objetos da classe Retangulo.\n",
        "6. Cada objeto deve ter um vértice de partida, por exemplo, o vértice inferior esquerdo do retângulo, que deve ser um objeto da classe Ponto.\n",
        "7. A função para encontrar o centro do retângulo deve retornar o valor para um objeto do tipo ponto que indique os valores de x e y para o centro do objeto.\n",
        "8. O valor do centro do objeto deve ser mostrado na tela\n",
        "9. Crie um menu para alterar os valores do retângulo e imprimir o centro deste retângulo."
      ]
    },
    {
      "cell_type": "code",
      "metadata": {
        "id": "KpYNYQfpzb0y"
      },
      "source": [
        "class Ponto:\n",
        "  def __init__(self, x, y):\n",
        "    self.x = x\n",
        "    self.y = y\n",
        "\n",
        "  def get_ponto(self):\n",
        "    return (self.x, self.y)\n",
        "\n",
        "class Retangulo:\n",
        "  def __init__(self, largura, altura):\n",
        "    self.largura = largura\n",
        "    self.altura = altura\n",
        "\n",
        "  def get_centro(self):\n",
        "    x = self.largura / 2\n",
        "    y = self.altura / 2\n",
        "    return Ponto(x, y)\n"
      ],
      "execution_count": null,
      "outputs": []
    },
    {
      "cell_type": "markdown",
      "metadata": {
        "id": "b-p0hcntzciP"
      },
      "source": [
        "**Classe Bomba de Combustível: Faça um programa completo utilizando classes e métodos que:**\n",
        "1. Possua uma classe chamada bombaCombustível, com no mínimo esses atributos:\n",
        "* tipoCombustivel.\n",
        "* valorLitro\n",
        "* quantidadeCombustivel\n",
        "2. Possua no mínimo esses métodos:\n",
        "* abastecerPorValor( ) – método onde é informado o valor a ser abastecido e mostra a quantidade de litros que foi colocada no veículo\n",
        "* abastecerPorLitro( ) – método onde é informado a quantidade em litros de combustível e mostra o valor a ser pago pelo cliente.\n",
        "* alterarValor( ) – altera o valor do litro do combustível.\n",
        "* alterarCombustivel( ) – altera o tipo do combustível.\n",
        "* alterarQuantidadeCombustivel( ) – altera a quantidade de combustível restante na bomba.\n",
        "\n",
        "*OBS: Sempre que acontecer um abastecimento é necessário atualizar a quantidade de combustível total na bomba.*"
      ]
    },
    {
      "cell_type": "code",
      "metadata": {
        "id": "CDxb6ALuz0xo",
        "colab": {
          "base_uri": "https://localhost:8080/"
        },
        "outputId": "d9c819cc-8b1b-4700-85f8-1a9d496ba382"
      },
      "source": [
        "class BombaCombustivel:\n",
        "  def __init__(self, tipo_comb, valor_litro, quant_comb):\n",
        "    self.tipo_comb = tipo_comb\n",
        "    self.valor_litro = valor_litro\n",
        "    self.quant_comb = quant_comb\n",
        "\n",
        "  def abastecer_por_valor(self, valor):\n",
        "    quant_litros = valor/self.valor_litro\n",
        "    self.set_quant_combustivel(quant_litros)\n",
        "    return round(quant_litros, 2)\n",
        "\n",
        "  def abastecer_por_litro(self, quant_litros):\n",
        "    valor_pagar = quant_litros * self.valor_litro\n",
        "    self.set_quant_combustivel(quant_litros)    \n",
        "    return round(valor_pagar, 2)\n",
        "\n",
        "  def set_valor(self, valor):\n",
        "    self.valor_litro = valor\n",
        "\n",
        "  def get_valor(self):\n",
        "    return self.valor_litro\n",
        "\n",
        "  def set_combustivel(self, tipo):\n",
        "    self.tipo_comb = tipo\n",
        "\n",
        "  def get_combustivel(self):\n",
        "    return self.tipo_comb\n",
        "\n",
        "  def set_quant_combustivel(self, quant):\n",
        "    self.quant_comb -= quant\n",
        "\n",
        "  def get_quant_combustivel(self):\n",
        "    return round(self.quant_comb, 2)\n",
        "\n",
        "bomba = BombaCombustivel('Gasolina', 5.5, 100)\n",
        "\n",
        "while True:\n",
        "  print('\\nOpções:')\n",
        "  print('1 - Abastecer por valor')\n",
        "  print('2 - Abastecer por quantidade em litros')\n",
        "  print('3 - Alterar o valor do litro')\n",
        "  print('4 - Alterar o tipo de combustível')\n",
        "  print('5 - Sair')\n",
        "  opcao = int(input('\\nSelecionar: '))\n",
        "\n",
        "  if opcao == 1:\n",
        "    valor = float(input('\\nDigite quanto deseja abastecer em R$: '))\n",
        "    print(f'\\n{bomba.abastecer_por_valor(valor)} litros abastecidos')\n",
        "    print(f'{bomba.get_quant_combustivel()} litros na bomba')\n",
        "  elif opcao == 2:\n",
        "    quant_litros = float(input('\\nDigite a quantidade que deseja abastecer em litros: '))\n",
        "    print(f'\\nR$ {bomba.abastecer_por_litro(quant_litros)} a pagar')\n",
        "    print(f'{bomba.get_quant_combustivel()} litros na bomba') \n",
        "  elif opcao == 3:\n",
        "    valor = float(input('\\nDigite o novo valor do combustível: '))\n",
        "    bomba.set_valor(valor)\n",
        "    print(f'Valor do combustível atual: RS {bomba.get_valor()}')\n",
        "  elif opcao == 4:\n",
        "    tipo = input('\\nDigite o tipo do combustível: ')\n",
        "    bomba.set_combustivel(tipo)\n",
        "    print(bomba.get_combustivel())\n",
        "  elif opcao == 5:\n",
        "    break"
      ],
      "execution_count": null,
      "outputs": [
        {
          "name": "stdout",
          "output_type": "stream",
          "text": [
            "\n",
            "Opções:\n",
            "1 - Abastecer por valor\n",
            "2 - Abastecer por quantidade em litros\n",
            "3 - Alterar o valor do litro\n",
            "4 - Alterar o tipo de combustível\n",
            "5 - Sair\n",
            "\n",
            "Selecionar: 1\n",
            "\n",
            "Digite quanto deseja abastecer em R$: 50\n",
            "\n",
            "9.09 litros abastecidos\n",
            "90.91 litros na bomba\n",
            "\n",
            "Opções:\n",
            "1 - Abastecer por valor\n",
            "2 - Abastecer por quantidade em litros\n",
            "3 - Alterar o valor do litro\n",
            "4 - Alterar o tipo de combustível\n",
            "5 - Sair\n",
            "\n",
            "Selecionar: 3\n",
            "\n",
            "Digite o novo valor do combustível: 7.5\n",
            "Valor do combustível atual: RS 7.5\n",
            "\n",
            "Opções:\n",
            "1 - Abastecer por valor\n",
            "2 - Abastecer por quantidade em litros\n",
            "3 - Alterar o valor do litro\n",
            "4 - Alterar o tipo de combustível\n",
            "5 - Sair\n",
            "\n",
            "Selecionar: 1\n",
            "\n",
            "Digite quanto deseja abastecer em R$: 50\n",
            "\n",
            "6.67 litros abastecidos\n",
            "84.24 litros na bomba\n",
            "\n",
            "Opções:\n",
            "1 - Abastecer por valor\n",
            "2 - Abastecer por quantidade em litros\n",
            "3 - Alterar o valor do litro\n",
            "4 - Alterar o tipo de combustível\n",
            "5 - Sair\n",
            "\n",
            "Selecionar: 2\n",
            "\n",
            "Digite a quantidade que deseja abastecer em litros: 6.6\n",
            "\n",
            "R$ 49.5 a pagar\n",
            "77.64 litros na bomba\n",
            "\n",
            "Opções:\n",
            "1 - Abastecer por valor\n",
            "2 - Abastecer por quantidade em litros\n",
            "3 - Alterar o valor do litro\n",
            "4 - Alterar o tipo de combustível\n",
            "5 - Sair\n",
            "\n",
            "Selecionar: 5\n"
          ]
        }
      ]
    },
    {
      "cell_type": "markdown",
      "metadata": {
        "id": "RE8OBp9mz3MK"
      },
      "source": [
        "**Classe carro: Implemente uma classe chamada Carro com as seguintes propriedades:**\n",
        "\n",
        "1. Um veículo tem um certo consumo de combustível (medidos em km / litro) e uma certa quantidade de combustível no tanque.\n",
        "2. O consumo é especificado no construtor e o nível de combustível inicial é 0.\n",
        "3. Forneça um método andar( ) que simule o ato de dirigir o veículo por uma certa distância, reduzindo o nível de combustível no tanque de gasolina.\n",
        "4. Forneça um método obterGasolina( ), que retorna o nível atual de combustível.\n",
        "5. Forneça um método adicionarGasolina( ), para abastecer o tanque. Exemplo de uso:\n",
        "\n",
        "```\n",
        "      meuFusca = Carro(15);           # 15 quilômetros por litro de combustível. \n",
        "      meuFusca.adicionarGasolina(20); # abastece com 20 litros de combustível. \n",
        "      meuFusca.andar(100);            # anda 100 quilômetros.\n",
        "      meuFusca.obterGasolina()        # Imprime o combustível que resta no tanque.\n",
        "```\n",
        "\n",
        "\n"
      ]
    },
    {
      "cell_type": "code",
      "metadata": {
        "id": "URHnfKy40OsX",
        "colab": {
          "base_uri": "https://localhost:8080/"
        },
        "outputId": "b5b49f2b-5d11-48bc-a5f9-2584b9453985"
      },
      "source": [
        "class Carro:\n",
        "  def __init__(self, consumo):\n",
        "    self.consumo = consumo\n",
        "    self.combustivel = 0\n",
        "\n",
        "  def andar(self, distancia):\n",
        "    self.combustivel -= (distancia/self.consumo)\n",
        "\n",
        "  def get_gasolina(self):\n",
        "    return self.combustivel\n",
        "\n",
        "  def adicionar_gasolina(self, abastecimento):\n",
        "    self.combustivel += abastecimento\n",
        "\n",
        "meu_fusca = Carro(15)\n",
        "meu_fusca.adicionar_gasolina(20)\n",
        "print(f'Nível de combustível: {meu_fusca.get_gasolina()}')\n",
        "meu_fusca.andar(100)\n",
        "print(f'Nível de combustível: {meu_fusca.get_gasolina()}')"
      ],
      "execution_count": 15,
      "outputs": [
        {
          "output_type": "stream",
          "name": "stdout",
          "text": [
            "Nível de combustível: 20\n",
            "Nível de combustível: 13.333333333333332\n"
          ]
        }
      ]
    },
    {
      "cell_type": "markdown",
      "metadata": {
        "id": "s6Cz02ah0SNg"
      },
      "source": [
        "**Classe Conta de Investimento: Faça uma classe contaInvestimento que seja semelhante a classe contaBancaria, com a diferença de que se adicione um atributo taxaJuros. Forneça um construtor que configure tanto o saldo inicial como a taxa de juros. Forneça um método adicioneJuros (sem parâmetro explícito) que adicione juros à conta. Escreva um programa que construa uma poupança com um saldo inicial de R$1000,00 e uma taxa de juros de 10%. Depois aplique o método adicioneJuros() cinco vezes e imprime o saldo resultante.**"
      ]
    },
    {
      "cell_type": "code",
      "metadata": {
        "id": "KcXSuZDi0WBd",
        "colab": {
          "base_uri": "https://localhost:8080/"
        },
        "outputId": "227e1761-836b-428f-d612-12d47df124ad"
      },
      "source": [
        "class ContaInvestimento:\n",
        "  def __init__(self, numero, nome, saldo, taxa_juros):\n",
        "    self.numero = numero\n",
        "    self.nome = nome\n",
        "    self.saldo = saldo\n",
        "    self.taxa_juros = taxa_juros\n",
        "\n",
        "  def get_saldo(self):\n",
        "    return self.saldo\n",
        "\n",
        "  def adiciona_juros(self):\n",
        "    self.saldo += (self.taxa_juros/100) * self.saldo\n",
        "    return self.saldo\n",
        "\n",
        "conta = ContaInvestimento(12345, 'João', 1000, 10)\n",
        "print(f'Saldo inicial: {conta.get_saldo()}')\n",
        "conta.adiciona_juros()\n",
        "conta.adiciona_juros()\n",
        "conta.adiciona_juros()\n",
        "conta.adiciona_juros()\n",
        "conta.adiciona_juros()\n",
        "print(f'Saldo final: {conta.get_saldo()}')"
      ],
      "execution_count": 32,
      "outputs": [
        {
          "output_type": "stream",
          "name": "stdout",
          "text": [
            "Saldo inicial: 1000\n",
            "Saldo final: 1610.51\n"
          ]
        }
      ]
    },
    {
      "cell_type": "markdown",
      "metadata": {
        "id": "3hF_r5ow0Wpp"
      },
      "source": [
        "**Classe Funcionário: Implemente a classe Funcionário. Um empregado tem um nome (um string) e um salário(um double). Escreva um construtor com dois parâmetros (nome e salário) e métodos para devolver nome e salário. Escreva um pequeno programa que teste sua classe.**"
      ]
    },
    {
      "cell_type": "code",
      "metadata": {
        "id": "inUgTcRg0aF5",
        "colab": {
          "base_uri": "https://localhost:8080/"
        },
        "outputId": "65534982-0653-4053-bdfd-721ae95b26be"
      },
      "source": [
        "class Funcionario:\n",
        "  def __init__(self, nome, salario):\n",
        "    self.nome = nome\n",
        "    self.salario = salario\n",
        "\n",
        "  def get_nome(self):\n",
        "    return self.nome\n",
        "\n",
        "  def get_salario(self):\n",
        "    return self.salario\n",
        "\n",
        "nome = str(input('Digite o nome: '))\n",
        "salario = float(input('Digite o salário: '))\n",
        "\n",
        "func = Funcionario(nome, salario)\n",
        "print(f'Nome: {func.get_nome()}')\n",
        "print(f'Salário: {func.get_salario()}')"
      ],
      "execution_count": 37,
      "outputs": [
        {
          "output_type": "stream",
          "name": "stdout",
          "text": [
            "Digite o nome: Mariana\n",
            "Digite o salário: 5000\n",
            "Nome: Mariana\n",
            "Salário: 5000.0\n"
          ]
        }
      ]
    },
    {
      "cell_type": "markdown",
      "metadata": {
        "id": "spfmau9Y0aih"
      },
      "source": [
        "**Aprimore a classe do exercício anterior para adicionar o método aumentarSalario (porcentualDeAumento) que aumente o salário do funcionário em uma certa porcentagem.**\n",
        "\n",
        "Exemplo de uso:\n",
        "```\n",
        "    harry=funcionário(\"Harry\",25000)\n",
        "    harry.aumentarSalario(10)\n",
        "```\n",
        "\n"
      ]
    },
    {
      "cell_type": "code",
      "metadata": {
        "id": "Syh04OYl0npN",
        "colab": {
          "base_uri": "https://localhost:8080/"
        },
        "outputId": "b0a891bd-6856-4500-d531-26717237bf5c"
      },
      "source": [
        "class Funcionario:\n",
        "  def __init__(self, nome, salario):\n",
        "    self.nome = nome\n",
        "    self.salario = salario\n",
        "\n",
        "  def get_nome(self):\n",
        "    return self.nome\n",
        "\n",
        "  def get_salario(self):\n",
        "    return self.salario\n",
        "\n",
        "  def aumentar_salario(self, aumento):\n",
        "    self.salario += (self.salario * (aumento/100))\n",
        "\n",
        "harry = Funcionario(\"Harry\", 25000)\n",
        "print(f'Salário: {harry.get_salario()}')\n",
        "harry.aumentar_salario(10)\n",
        "print(f'Salário: {harry.get_salario()}')"
      ],
      "execution_count": 42,
      "outputs": [
        {
          "output_type": "stream",
          "name": "stdout",
          "text": [
            "Salário: 25000\n",
            "Salário: 27500.0\n"
          ]
        }
      ]
    },
    {
      "cell_type": "markdown",
      "metadata": {
        "id": "faf3UrmR0oc3"
      },
      "source": [
        "**Classe Bichinho Virtual++: Melhore o programa do bichinho virtual, permitindo que o usuário especifique quanto de comida ele fornece ao bichinho e por quanto tempo ele brinca com o bichinho. Faça com que estes valores afetem quão rapidamente os níveis de fome e tédio caem.**"
      ]
    },
    {
      "cell_type": "code",
      "metadata": {
        "id": "UEa6WPbV0qzY",
        "colab": {
          "base_uri": "https://localhost:8080/"
        },
        "outputId": "986cce47-a66a-431c-8374-c047a89ac7b4"
      },
      "source": [
        "class BichinhoVirtual2:\n",
        "  def __init__(self, nome):\n",
        "    self.nome = nome\n",
        "    self.fome = 50\n",
        "    self.saude = 100\n",
        "    self.idade = 0\n",
        "    self.tedio = 70\n",
        "\n",
        "  def get_nome(self):\n",
        "    return self.nome\n",
        "\n",
        "  def set_nome(self, nome):\n",
        "    self.nome = nome\n",
        "\n",
        "  def get_idade(self):\n",
        "    return self.idade\n",
        "\n",
        "  def set_idade(self, idade):\n",
        "    self.idade = idade\n",
        "\n",
        "  def get_fome(self):\n",
        "    return self.fome\n",
        "\n",
        "  def set_fome(self, fome):\n",
        "    self.fome = fome\n",
        "\n",
        "  def get_saude(self):\n",
        "    return self.saude\n",
        "\n",
        "  def set_saude(self, saude):\n",
        "    self.saude = saude\n",
        "\n",
        "  def alimentar(self, quantidade):\n",
        "    self.fome -= quantidade\n",
        "\n",
        "  def brincar(self, tempo):\n",
        "    for i in range(0, tempo):\n",
        "      self.tedio -= 1\n",
        "      print('Brincando!')\n",
        "\n",
        "  def get_tedio(self):\n",
        "    return self.tedio\n",
        "\n",
        "nome = input('Digite o nome do bichinho: ')\n",
        "\n",
        "bichinho = BichinhoVirtual2('Jolie')\n",
        "print(f'Nome: {bichinho.get_nome()}')\n",
        "\n",
        "print(f'Nível de fome antes de comer: {bichinho.get_fome()}')\n",
        "bichinho.alimentar(10)\n",
        "print(f'Nível de fome depois de comer: {bichinho.get_fome()}')\n",
        "\n",
        "print(f'Nível de tédio antes de brincar: {bichinho.get_tedio()}')\n",
        "bichinho.brincar(5)\n",
        "print(f'Nível de tédio depois de brincar: {bichinho.get_tedio()}')"
      ],
      "execution_count": 61,
      "outputs": [
        {
          "output_type": "stream",
          "name": "stdout",
          "text": [
            "Digite o nome do bichinho: Jolie\n",
            "Nome: Jolie\n",
            "Nível de fome antes de comer: 50\n",
            "Nível de fome depois de comer: 40\n",
            "Nível de tédio antes de brincar: 70\n",
            "Brincando!\n",
            "Brincando!\n",
            "Brincando!\n",
            "Brincando!\n",
            "Brincando!\n",
            "Nível de tédio depois de brincar: 65\n"
          ]
        }
      ]
    },
    {
      "cell_type": "markdown",
      "metadata": {
        "id": "vRTpX8Om0rd1"
      },
      "source": [
        "**Crie uma \"porta escondida\" no programa do programa do bichinho virtual que mostre os valores exatos dos atributos do objeto. Consiga isto mostrando o objeto quando uma opção secreta, não listada no menu, for informada na escolha do usuário. Dica: acrescente um método especial str() à classe Bichinho.**"
      ]
    },
    {
      "cell_type": "code",
      "metadata": {
        "id": "gst2bXBf0up-"
      },
      "source": [
        ""
      ],
      "execution_count": null,
      "outputs": []
    },
    {
      "cell_type": "markdown",
      "metadata": {
        "id": "1Rr1f1Gw0vOX"
      },
      "source": [
        "**Crie uma Fazenda de Bichinhos instanciando vários objetos bichinho e mantendo o controle deles através de uma lista. Imite o funcionamento do programa básico, mas ao invés de exigis que o usuário tome conta de um único bichinho, exija que ele tome conta da fazenda inteira. Cada opção do menu deveria permitir que o usuário executasse uma ação para todos os bichinhos (alimentar todos os bichinhos, brincar com todos os bichinhos, ou ouvir a todos os bichinhos). Para tornar o programa mais interessante, dê para cada bichinho um nivel inicial aleatório de fome e tédio.**"
      ]
    },
    {
      "cell_type": "code",
      "metadata": {
        "id": "mQgmewR70ym6"
      },
      "source": [
        ""
      ],
      "execution_count": null,
      "outputs": []
    }
  ]
}