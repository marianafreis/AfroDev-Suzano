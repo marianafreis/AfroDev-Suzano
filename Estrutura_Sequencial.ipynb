{
  "nbformat": 4,
  "nbformat_minor": 0,
  "metadata": {
    "colab": {
      "name": "Estrutura Sequencial.ipynb",
      "provenance": [],
      "collapsed_sections": [],
      "include_colab_link": true
    },
    "kernelspec": {
      "name": "python3",
      "display_name": "Python 3"
    },
    "language_info": {
      "name": "python"
    }
  },
  "cells": [
    {
      "cell_type": "markdown",
      "metadata": {
        "id": "view-in-github",
        "colab_type": "text"
      },
      "source": [
        "<a href=\"https://colab.research.google.com/github/marianafreis/AfroDev-Suzano/blob/main/Estrutura_Sequencial.ipynb\" target=\"_parent\"><img src=\"https://colab.research.google.com/assets/colab-badge.svg\" alt=\"Open In Colab\"/></a>"
      ]
    },
    {
      "cell_type": "markdown",
      "metadata": {
        "id": "s3h4XTy42l6y"
      },
      "source": [
        "##Estrutura Sequencial"
      ]
    },
    {
      "cell_type": "markdown",
      "metadata": {
        "id": "xiXySkgH7dwe"
      },
      "source": [
        "**Faça um Programa que peça um número e então mostre a mensagem:**\n",
        "\n",
        "#####O número informado foi [número]."
      ]
    },
    {
      "cell_type": "code",
      "metadata": {
        "id": "rlRavVZi8bS0",
        "colab": {
          "base_uri": "https://localhost:8080/"
        },
        "outputId": "126aef55-1138-4f5b-81d1-493cc264cccb"
      },
      "source": [
        "num = input()\n",
        "print(\"O número informado foi {}\".format(num))"
      ],
      "execution_count": 2,
      "outputs": [
        {
          "output_type": "stream",
          "name": "stdout",
          "text": [
            "6\n",
            "O número informado foi 6\n"
          ]
        }
      ]
    },
    {
      "cell_type": "markdown",
      "metadata": {
        "id": "_Kl-2zy-8cNv"
      },
      "source": [
        "**Faça um Programa que peça dois números e imprima a soma.**"
      ]
    },
    {
      "cell_type": "code",
      "metadata": {
        "id": "CJlgEdLe3KLC",
        "colab": {
          "base_uri": "https://localhost:8080/"
        },
        "outputId": "c140f10c-0222-40ed-de1e-101c244d1f4e"
      },
      "source": [
        "num1 = input()\n",
        "num2 = input()\n",
        "soma = int(num1) + int(num2)\n",
        "print(\"A soma dos números é: {}\".format(soma))"
      ],
      "execution_count": 3,
      "outputs": [
        {
          "output_type": "stream",
          "name": "stdout",
          "text": [
            "5\n",
            "6\n",
            "A soma dos números é: 11\n"
          ]
        }
      ]
    },
    {
      "cell_type": "markdown",
      "metadata": {
        "id": "asSOCkv48hsr"
      },
      "source": [
        "**Faça um Programa que peça as 4 notas bimestrais e mostre a média.**"
      ]
    },
    {
      "cell_type": "code",
      "metadata": {
        "id": "q4BgyRbOR8xW",
        "colab": {
          "base_uri": "https://localhost:8080/"
        },
        "outputId": "4e4847e4-6b6c-482a-dc44-fc7ad1100796"
      },
      "source": [
        "nota1 = int(input('Digite a primeira nota: '))\n",
        "nota2 = int(input('Digite a segunda nota: '))\n",
        "nota3 = int(input('Digite a terceira nota: '))\n",
        "nota4 = int(input('Digite a quarta nota: '))\n",
        "\n",
        "media = (nota1 + nota2 + nota3 + nota4) / 4\n",
        "\n",
        "print('A média das notas é: {}'.format(media))"
      ],
      "execution_count": 5,
      "outputs": [
        {
          "output_type": "stream",
          "name": "stdout",
          "text": [
            "Digite a primeira nota: 5\n",
            "Digite a segunda nota: 6\n",
            "Digite a terceira nota: 7\n",
            "Digite a quarta nota: 8\n",
            "A média das notas é: 6.5\n"
          ]
        }
      ]
    },
    {
      "cell_type": "markdown",
      "metadata": {
        "id": "ykRUV1Id8l8q"
      },
      "source": [
        "**Faça um Programa que converta metros para centímetros.**"
      ]
    },
    {
      "cell_type": "code",
      "metadata": {
        "id": "BHZPAdvt2aAq",
        "colab": {
          "base_uri": "https://localhost:8080/"
        },
        "outputId": "811fc84a-4dad-4682-eab2-54567ef2efa0"
      },
      "source": [
        "metros = int(input('Digite a medida em metros: '))\n",
        "\n",
        "centimetros = (metros * 100)\n",
        "\n",
        "print('O valor em centímetros é: {} cm'.format(centimetros))"
      ],
      "execution_count": 8,
      "outputs": [
        {
          "output_type": "stream",
          "name": "stdout",
          "text": [
            "Digite a medida em metros: 55\n",
            "O valor em centímetros é: 5500 cm\n"
          ]
        }
      ]
    },
    {
      "cell_type": "markdown",
      "metadata": {
        "id": "H2UfEr398p_N"
      },
      "source": [
        "**Faça um Programa que peça o raio de um círculo, calcule e mostre sua área.**"
      ]
    },
    {
      "cell_type": "code",
      "metadata": {
        "id": "Fu1UfLa92p_O",
        "colab": {
          "base_uri": "https://localhost:8080/"
        },
        "outputId": "043cba09-c930-41c0-dbd7-08b70957abb9"
      },
      "source": [
        "raio = int(input('Digite o raio do círculo: '))\n",
        "\n",
        "area = 3.14 * (raio**2)\n",
        "\n",
        "print('A área do círculo é: {}'.format(area))"
      ],
      "execution_count": 9,
      "outputs": [
        {
          "output_type": "stream",
          "name": "stdout",
          "text": [
            "Digite o raio do círculo: 5\n",
            "A área do círculo é: 78.5\n"
          ]
        }
      ]
    },
    {
      "cell_type": "markdown",
      "metadata": {
        "id": "vO9okcSq8txf"
      },
      "source": [
        "**Faça um Programa que calcule a área de um quadrado, em seguida mostre o dobro desta área para o usuário.**"
      ]
    },
    {
      "cell_type": "code",
      "metadata": {
        "id": "IrRGvkdl2sQ7",
        "colab": {
          "base_uri": "https://localhost:8080/"
        },
        "outputId": "e0173631-723c-47a8-a823-669590183696"
      },
      "source": [
        "lado = int(input('Informe a medida de um dos lados do quadrado: '))\n",
        "\n",
        "area_quadrado = lado * lado\n",
        "\n",
        "print('A área do quadrado é: {}'.format(area_quadrado))"
      ],
      "execution_count": 10,
      "outputs": [
        {
          "output_type": "stream",
          "name": "stdout",
          "text": [
            "Informe a medida de um dos lados do quadrado: 5\n",
            "A área do quadrado é: 25\n"
          ]
        }
      ]
    },
    {
      "cell_type": "markdown",
      "metadata": {
        "id": "eQjAPxZV9Y_U"
      },
      "source": [
        "**Faça um Programa que pergunte quanto você ganha por hora e o número de horas trabalhadas no mês. Calcule e mostre o total do seu salário no referido mês.**"
      ]
    },
    {
      "cell_type": "code",
      "metadata": {
        "id": "Y0rYrzfh9Xw5",
        "colab": {
          "base_uri": "https://localhost:8080/"
        },
        "outputId": "90a79d63-371e-4f85-f770-dc4e9c9f6399"
      },
      "source": [
        "valor_hora = int(input('Quanto você ganha por hora? '))\n",
        "horas_trabalhadas = int(input('Quantas horas você trabalhou no mês? '))\n",
        "\n",
        "salario = valor_hora * horas_trabalhadas\n",
        "\n",
        "print('O salário total do mês é: {}'.format(salario))"
      ],
      "execution_count": 12,
      "outputs": [
        {
          "output_type": "stream",
          "name": "stdout",
          "text": [
            "Quanto você ganha por hora? 20\n",
            "Quantas horas você trabalhou no mês? 40\n",
            "O salário total do mês é: 800\n"
          ]
        }
      ]
    },
    {
      "cell_type": "markdown",
      "metadata": {
        "id": "rCvWU_do9eb7"
      },
      "source": [
        "**Faça um Programa que peça a temperatura em graus Fahrenheit, transforme e mostre a temperatura em graus Celsius.\n",
        "C = 5 * ((F-32) / 9).**"
      ]
    },
    {
      "cell_type": "code",
      "metadata": {
        "id": "6-F8JLJl9nWy",
        "colab": {
          "base_uri": "https://localhost:8080/"
        },
        "outputId": "de2ceb9b-9564-4884-fe18-060bca988113"
      },
      "source": [
        "f = int(input('Informe a temperatura em graus Fahrenheit: '))\n",
        "\n",
        "c = 5 * ((f-32)/9)\n",
        "\n",
        "print ('A temperatura em graus Celsius é: {}'.format(c));"
      ],
      "execution_count": 13,
      "outputs": [
        {
          "output_type": "stream",
          "name": "stdout",
          "text": [
            "Informe a temperatura em graus Fahrenheit: 72\n",
            "A temperatura em graus Celsius é: 22.22222222222222\n"
          ]
        }
      ]
    },
    {
      "cell_type": "markdown",
      "metadata": {
        "id": "wuNSOcEU9q82"
      },
      "source": [
        "**Faça um Programa que peça a temperatura em graus Celsius, transforme e mostre em graus Fahrenheit.**"
      ]
    },
    {
      "cell_type": "code",
      "metadata": {
        "id": "jFV9yA3W9vPA",
        "colab": {
          "base_uri": "https://localhost:8080/"
        },
        "outputId": "c85981b1-e978-4db8-ec8f-affc2b3783e3"
      },
      "source": [
        "c = int(input('Informe a temperatura em graus Celsius: '))\n",
        "\n",
        "f = (c * (9/5) + 32)\n",
        "\n",
        "print ('A temperatura em graus Fahrenheit é: {}'.format(f));"
      ],
      "execution_count": 14,
      "outputs": [
        {
          "output_type": "stream",
          "name": "stdout",
          "text": [
            "Informe a temperatura em graus Celsius: 22\n",
            "A temperatura em graus Fahrenheit é: 71.6\n"
          ]
        }
      ]
    },
    {
      "cell_type": "markdown",
      "metadata": {
        "id": "rHenay-u9wSe"
      },
      "source": [
        "**Faça um Programa que peça 2 números inteiros e um número real. Calcule e mostre:**\n",
        "\n",
        "1. Produto do dobro do primeiro com metade do segundo.\n",
        "2. Soma do triplo do primeiro com o terceiro.\n",
        "3. Terceiro elevado ao cubo.\n"
      ]
    },
    {
      "cell_type": "code",
      "metadata": {
        "id": "YnLaFKWE94sM",
        "colab": {
          "base_uri": "https://localhost:8080/"
        },
        "outputId": "00f7c09a-75de-472b-fdfd-bb137c7be03f"
      },
      "source": [
        "int1 = int(input('Digite um número inteiro: '))\n",
        "int2 = int(input('Digite um número inteiro: '))\n",
        "real = float(input('Digite um número real: '))\n",
        "\n",
        "calculo1 = (int1 * 2) * (int2 / 2)\n",
        "calculo2 = (int1 * 3) + real\n",
        "calculo3 = real ** 3\n",
        "\n",
        "print('1. Produto do dobro do primeiro com metade do segundo: {} \\n2. Soma do triplo do primeiro com o terceiro: {} \\n3. Terceiro elevado ao cubo: {}'.format(calculo1, calculo2, calculo3))"
      ],
      "execution_count": 15,
      "outputs": [
        {
          "output_type": "stream",
          "name": "stdout",
          "text": [
            "Digite um número inteiro: 5\n",
            "Digite um número inteiro: 9\n",
            "Digite um número real: 3.5\n",
            "1. Produto do dobro do primeiro com metade do segundo: 45.0 \n",
            "2. Soma do triplo do primeiro com o terceiro: 18.5 \n",
            "3. Terceiro elevado ao cubo: 42.875\n"
          ]
        }
      ]
    },
    {
      "cell_type": "markdown",
      "metadata": {
        "id": "Pp-vVCNC-M9n"
      },
      "source": [
        "**Tendo como dados de entrada a altura de uma pessoa, construa um algoritmo que calcule seu peso ideal, usando a seguinte fórmula: (72.7*altura) - 58**"
      ]
    },
    {
      "cell_type": "code",
      "metadata": {
        "id": "elpHlKHR-TEW",
        "colab": {
          "base_uri": "https://localhost:8080/"
        },
        "outputId": "2a6dd786-0164-4980-cacb-a0bf99ad6bbd"
      },
      "source": [
        "altura = float(input('Informe a sua altura: '))\n",
        "\n",
        "peso_ideal = (72.7 * altura) - 58\n",
        "\n",
        "print('O seu pedo ideal é: {}'.format(peso_ideal))"
      ],
      "execution_count": 16,
      "outputs": [
        {
          "output_type": "stream",
          "name": "stdout",
          "text": [
            "Informe a sua altura: 1.77\n",
            "O seu pedo ideal é: 70.679\n"
          ]
        }
      ]
    },
    {
      "cell_type": "markdown",
      "metadata": {
        "id": "9DDiGIya-Tu3"
      },
      "source": [
        "**Tendo como dado de entrada a altura (h) de uma pessoa, construa um algoritmo que calcule seu peso ideal, utilizando as seguintes fórmulas:**\n",
        "1. Para homens: (72.7*h) - 58\n",
        "2. Para mulheres: (62.1*h) - 44.7"
      ]
    },
    {
      "cell_type": "code",
      "metadata": {
        "id": "Yj8Aur0f-fot",
        "colab": {
          "base_uri": "https://localhost:8080/"
        },
        "outputId": "b9ac0537-70f8-4553-a537-dccea0a9d947"
      },
      "source": [
        "sexo = input('Informe o sexo (F ou M) ')\n",
        "altura = float(input('Informe a sua altura: '))\n",
        "\n",
        "if (sexo == 'F'):\n",
        "  peso_ideal = (62.7 * altura) - 44.7\n",
        "else:\n",
        "  peso_ideal = (72.7 * altura) - 58\n",
        "\n",
        "print('O seu pedo ideal é: {}'.format(peso_ideal))"
      ],
      "execution_count": null,
      "outputs": [
        {
          "output_type": "stream",
          "name": "stdout",
          "text": [
            "Informe o sexo (F ou M) m\n",
            "Informe a sua altura: 1.82\n",
            "O seu pedo ideal é: 74.31400000000002\n"
          ]
        }
      ]
    },
    {
      "cell_type": "markdown",
      "metadata": {
        "id": "luMJHwGe-i8c"
      },
      "source": [
        "**João Papo-de-Pescador, homem de bem, comprou um microcomputador para controlar o rendimento diário de seu trabalho. Toda vez que ele traz um peso de peixes maior que o estabelecido pelo regulamento de pesca do estado de São Paulo (50 quilos) deve pagar uma multa de R$ 4,00 por quilo excedente. João precisa que você faça um programa que leia a variável peso (peso de peixes) e calcule o excesso. Gravar na variável excesso a quantidade de quilos além do limite e na variável multa o valor da multa que João deverá pagar. Imprima os dados do programa com as mensagens adequadas.**"
      ]
    },
    {
      "cell_type": "code",
      "metadata": {
        "id": "BOnYi7Ki-tlF",
        "colab": {
          "base_uri": "https://localhost:8080/"
        },
        "outputId": "cdeeead8-4f44-4cc6-973b-897fdcf66f04"
      },
      "source": [
        "peso = float(input('Informe o peso: '))\n",
        "\n",
        "if peso > 50:\n",
        "  excesso = peso - 50\n",
        "else: \n",
        "  excesso = 0\n",
        "\n",
        "multa = excesso * 4\n",
        "\n",
        "print('O peso total é: {} \\nPeso excedente: {}\\nValor da multa a ser pago: {}'.format(peso, excesso, multa))"
      ],
      "execution_count": null,
      "outputs": [
        {
          "output_type": "stream",
          "name": "stdout",
          "text": [
            "Informe o peso: 56\n",
            "O peso total é: 56.0 \n",
            "Peso excedente: 6.0\n",
            "Valor da multa a ser pago: 24.0\n"
          ]
        }
      ]
    },
    {
      "cell_type": "markdown",
      "metadata": {
        "id": "GOv4mU5T-uNy"
      },
      "source": [
        "**Faça um Programa que pergunte quanto você ganha por hora e o número de horas trabalhadas no mês. Calcule e mostre o total do seu salário no referido mês, sabendo-se que são descontados 11% para o Imposto de Renda, 8% para o INSS e 5% para o sindicato, faça um programa que nos dê:**\n",
        "\n",
        "1. salário bruto.\n",
        "2. quanto pagou ao INSS.\n",
        "3. quanto pagou ao sindicato.\n",
        "4. o salário líquido.\n",
        "5. calcule os descontos e o salário líquido, conforme a tabela abaixo:\n",
        "\n",
        "```\n",
        "+ Salário Bruto : R$\n",
        "- IR (11%) : R$\n",
        "- INSS (8%) : R$\n",
        "- Sindicato ( 5%) : R$\n",
        "= Salário Liquido : R$\n",
        "```\n",
        "*Obs.: Salário Bruto - Descontos = Salário Líquido.*\n"
      ]
    },
    {
      "cell_type": "code",
      "metadata": {
        "id": "BpJrcHmA_WeV",
        "colab": {
          "base_uri": "https://localhost:8080/"
        },
        "outputId": "c0bcb67e-2779-4b72-eb91-906f938e885b"
      },
      "source": [
        "valor_hora = int(input('Quanto você ganha por hora? '))\n",
        "horas_trabalhadas = int(input('Quantas horas você trabalhou no mês? '))\n",
        "\n",
        "salario_bruto = valor_hora * horas_trabalhadas\n",
        "ir = salario_bruto * 0.11\n",
        "inss = salario_bruto * 0.08\n",
        "sindicato = salario_bruto * 0.05\n",
        "salario_liquido = salario_bruto - ir - inss - sindicato\n",
        "\n",
        "\n",
        "print('1. Salário Bruto: R$ {}\\n2. IR (11%): R$ {}\\n3. INSS (8%): R$ {}\\n4. Sindicato (5%): R$ {}\\n5. Salário Liquido: R$ {}'.format(salario_bruto, ir, inss, sindicato, salario_liquido))"
      ],
      "execution_count": null,
      "outputs": [
        {
          "output_type": "stream",
          "name": "stdout",
          "text": [
            "Quanto você ganha por hora? 20\n",
            "Quantas horas você trabalhou no mês? 50\n",
            "1. Salário Bruto: R$ 1000\n",
            "2. IR (11%): R$ 110.0\n",
            "3. INSS (8%): R$ 80.0\n",
            "4. Sindicato (5%): R$ 50.0\n",
            "5. Salário Liquido: R$ 760.0\n"
          ]
        }
      ]
    },
    {
      "cell_type": "markdown",
      "metadata": {
        "id": "3wsz_2Tt_XIN"
      },
      "source": [
        "**Faça um programa para uma loja de tintas. O programa deverá pedir o tamanho em metros quadrados da área a ser pintada. Considere que a cobertura da tinta é de 1 litro para cada 3 metros quadrados e que a tinta é vendida em latas de 18 litros, que custam R$ 80,00. Informe ao usuário a quantidades de latas de tinta a serem compradas e o preço total.**"
      ]
    },
    {
      "cell_type": "code",
      "metadata": {
        "id": "sWHBxGcc_e9t",
        "colab": {
          "base_uri": "https://localhost:8080/"
        },
        "outputId": "f8a48060-1053-4072-a510-9b77295150c9"
      },
      "source": [
        "metros = (float(input('Informe a área a ser pintada em metros quadrados: ')))\n",
        "litros = metros / 3\n",
        "preco_lata = 80.00\n",
        "litros_lata = 18\n",
        "\n",
        "quantidade_latas = litros / litros_lata\n",
        "total = quantidade_latas * preco_lata\n",
        "\n",
        "print('Você precisa de {} latas de tinta'.format(quantidade_latas))\n",
        "print('O preco total é: R$ {}'.format(total))"
      ],
      "execution_count": 32,
      "outputs": [
        {
          "output_type": "stream",
          "name": "stdout",
          "text": [
            "Informe a área a ser pintada em metros quadrados: 300\n",
            "Você precisa de 5.555555555555555 latas de tinta\n",
            "O preco total é: R$ 444.44444444444446\n"
          ]
        }
      ]
    },
    {
      "cell_type": "markdown",
      "metadata": {
        "id": "H32vYQcGAQV9"
      },
      "source": [
        "Faça um programa que peça o tamanho de um arquivo para download (em MB) e a velocidade de um link de Internet (em Mbps), calcule e informe o tempo aproximado de download do arquivo usando este link (em minutos)."
      ]
    },
    {
      "cell_type": "code",
      "metadata": {
        "id": "Ajfkz7TLAUIF",
        "colab": {
          "base_uri": "https://localhost:8080/"
        },
        "outputId": "77b143ad-dbc7-46e7-bef3-ccf4927fd648"
      },
      "source": [
        "tamanho = float(input('Informe o tamanho do arquivo (em MB): '))\n",
        "velocidade = float(input('Informe a velocidade da Internet (em Mbps): '))\n",
        "\n",
        "tempo = (tamanho / velocidade) * 60\n",
        "\n",
        "print('Tempo aproximado de download: {} minutos'.format(tempo))"
      ],
      "execution_count": 33,
      "outputs": [
        {
          "output_type": "stream",
          "name": "stdout",
          "text": [
            "Informe o tamanho do arquivo (em MB): 4\n",
            "Informe a velocidade da Internet (em Mbps): 500\n",
            "Tempo aproximado de download: 0.48 minutos\n"
          ]
        }
      ]
    }
  ]
}